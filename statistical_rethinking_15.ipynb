{
  "nbformat": 4,
  "nbformat_minor": 0,
  "metadata": {
    "colab": {
      "name": "statistical_rethinking_15.ipynb",
      "provenance": [],
      "collapsed_sections": [],
      "toc_visible": true,
      "authorship_tag": "ABX9TyNbotoGFmpcDNeP7G9hAVSV",
      "include_colab_link": true
    },
    "kernelspec": {
      "name": "python3",
      "display_name": "Python 3"
    }
  },
  "cells": [
    {
      "cell_type": "markdown",
      "metadata": {
        "id": "view-in-github",
        "colab_type": "text"
      },
      "source": [
        "<a href=\"https://colab.research.google.com/github/saurabh2086/statistical_rethinking/blob/main/statistical_rethinking_15.ipynb\" target=\"_parent\"><img src=\"https://colab.research.google.com/assets/colab-badge.svg\" alt=\"Open In Colab\"/></a>"
      ]
    },
    {
      "cell_type": "code",
      "metadata": {
        "id": "dow1qA82ZQck",
        "colab": {
          "base_uri": "https://localhost:8080/"
        },
        "outputId": "c8a2a000-44ad-4cb2-85da-179df85cf83c"
      },
      "source": [
        "# !pip install -U git+https://github.com/arviz-devs/arviz.git\n",
        "# !pip install -U git+https://github.com/pymc-devs/pymc3.git\n",
        "!pip install --upgrade pymc3 \n",
        "!pip install arviz"
      ],
      "execution_count": null,
      "outputs": [
        {
          "output_type": "stream",
          "text": [
            "Requirement already satisfied: pymc3 in /usr/local/lib/python3.7/dist-packages (3.11.2)\n",
            "Requirement already satisfied: fastprogress>=0.2.0 in /usr/local/lib/python3.7/dist-packages (from pymc3) (1.0.0)\n",
            "Requirement already satisfied: arviz>=0.11.0 in /usr/local/lib/python3.7/dist-packages (from pymc3) (0.11.2)\n",
            "Requirement already satisfied: scipy>=1.2.0 in /usr/local/lib/python3.7/dist-packages (from pymc3) (1.4.1)\n",
            "Requirement already satisfied: semver in /usr/local/lib/python3.7/dist-packages (from pymc3) (2.13.0)\n",
            "Requirement already satisfied: cachetools>=4.2.1 in /usr/local/lib/python3.7/dist-packages (from pymc3) (4.2.2)\n",
            "Requirement already satisfied: theano-pymc==1.1.2 in /usr/local/lib/python3.7/dist-packages (from pymc3) (1.1.2)\n",
            "Requirement already satisfied: typing-extensions>=3.7.4 in /usr/local/lib/python3.7/dist-packages (from pymc3) (3.7.4.3)\n",
            "Requirement already satisfied: numpy>=1.15.0 in /usr/local/lib/python3.7/dist-packages (from pymc3) (1.19.5)\n",
            "Requirement already satisfied: dill in /usr/local/lib/python3.7/dist-packages (from pymc3) (0.3.4)\n",
            "Requirement already satisfied: patsy>=0.5.1 in /usr/local/lib/python3.7/dist-packages (from pymc3) (0.5.1)\n",
            "Requirement already satisfied: pandas>=0.24.0 in /usr/local/lib/python3.7/dist-packages (from pymc3) (1.1.5)\n",
            "Requirement already satisfied: filelock in /usr/local/lib/python3.7/dist-packages (from theano-pymc==1.1.2->pymc3) (3.0.12)\n",
            "Requirement already satisfied: setuptools>=38.4 in /usr/local/lib/python3.7/dist-packages (from arviz>=0.11.0->pymc3) (57.2.0)\n",
            "Requirement already satisfied: netcdf4 in /usr/local/lib/python3.7/dist-packages (from arviz>=0.11.0->pymc3) (1.5.7)\n",
            "Requirement already satisfied: packaging in /usr/local/lib/python3.7/dist-packages (from arviz>=0.11.0->pymc3) (21.0)\n",
            "Requirement already satisfied: matplotlib>=3.0 in /usr/local/lib/python3.7/dist-packages (from arviz>=0.11.0->pymc3) (3.2.2)\n",
            "Requirement already satisfied: xarray>=0.16.1 in /usr/local/lib/python3.7/dist-packages (from arviz>=0.11.0->pymc3) (0.18.2)\n",
            "Requirement already satisfied: kiwisolver>=1.0.1 in /usr/local/lib/python3.7/dist-packages (from matplotlib>=3.0->arviz>=0.11.0->pymc3) (1.3.1)\n",
            "Requirement already satisfied: cycler>=0.10 in /usr/local/lib/python3.7/dist-packages (from matplotlib>=3.0->arviz>=0.11.0->pymc3) (0.10.0)\n",
            "Requirement already satisfied: pyparsing!=2.0.4,!=2.1.2,!=2.1.6,>=2.0.1 in /usr/local/lib/python3.7/dist-packages (from matplotlib>=3.0->arviz>=0.11.0->pymc3) (2.4.7)\n",
            "Requirement already satisfied: python-dateutil>=2.1 in /usr/local/lib/python3.7/dist-packages (from matplotlib>=3.0->arviz>=0.11.0->pymc3) (2.8.1)\n",
            "Requirement already satisfied: six in /usr/local/lib/python3.7/dist-packages (from cycler>=0.10->matplotlib>=3.0->arviz>=0.11.0->pymc3) (1.15.0)\n",
            "Requirement already satisfied: pytz>=2017.2 in /usr/local/lib/python3.7/dist-packages (from pandas>=0.24.0->pymc3) (2018.9)\n",
            "Requirement already satisfied: cftime in /usr/local/lib/python3.7/dist-packages (from netcdf4->arviz>=0.11.0->pymc3) (1.5.0)\n",
            "Requirement already satisfied: arviz in /usr/local/lib/python3.7/dist-packages (0.11.2)\n",
            "Requirement already satisfied: typing-extensions<4,>=3.7.4.3 in /usr/local/lib/python3.7/dist-packages (from arviz) (3.7.4.3)\n",
            "Requirement already satisfied: scipy>=0.19 in /usr/local/lib/python3.7/dist-packages (from arviz) (1.4.1)\n",
            "Requirement already satisfied: matplotlib>=3.0 in /usr/local/lib/python3.7/dist-packages (from arviz) (3.2.2)\n",
            "Requirement already satisfied: packaging in /usr/local/lib/python3.7/dist-packages (from arviz) (21.0)\n",
            "Requirement already satisfied: pandas>=0.23 in /usr/local/lib/python3.7/dist-packages (from arviz) (1.1.5)\n",
            "Requirement already satisfied: xarray>=0.16.1 in /usr/local/lib/python3.7/dist-packages (from arviz) (0.18.2)\n",
            "Requirement already satisfied: setuptools>=38.4 in /usr/local/lib/python3.7/dist-packages (from arviz) (57.2.0)\n",
            "Requirement already satisfied: numpy>=1.12 in /usr/local/lib/python3.7/dist-packages (from arviz) (1.19.5)\n",
            "Requirement already satisfied: netcdf4 in /usr/local/lib/python3.7/dist-packages (from arviz) (1.5.7)\n",
            "Requirement already satisfied: kiwisolver>=1.0.1 in /usr/local/lib/python3.7/dist-packages (from matplotlib>=3.0->arviz) (1.3.1)\n",
            "Requirement already satisfied: python-dateutil>=2.1 in /usr/local/lib/python3.7/dist-packages (from matplotlib>=3.0->arviz) (2.8.1)\n",
            "Requirement already satisfied: pyparsing!=2.0.4,!=2.1.2,!=2.1.6,>=2.0.1 in /usr/local/lib/python3.7/dist-packages (from matplotlib>=3.0->arviz) (2.4.7)\n",
            "Requirement already satisfied: cycler>=0.10 in /usr/local/lib/python3.7/dist-packages (from matplotlib>=3.0->arviz) (0.10.0)\n",
            "Requirement already satisfied: six in /usr/local/lib/python3.7/dist-packages (from cycler>=0.10->matplotlib>=3.0->arviz) (1.15.0)\n",
            "Requirement already satisfied: pytz>=2017.2 in /usr/local/lib/python3.7/dist-packages (from pandas>=0.23->arviz) (2018.9)\n",
            "Requirement already satisfied: cftime in /usr/local/lib/python3.7/dist-packages (from netcdf4->arviz) (1.5.0)\n"
          ],
          "name": "stdout"
        }
      ]
    },
    {
      "cell_type": "code",
      "metadata": {
        "id": "oqqQM2c94iG2"
      },
      "source": [
        "import numpy as np\n",
        "import pandas as pd \n",
        "import matplotlib.pyplot as plt\n",
        "\n",
        "import pymc3 as pm\n",
        "import scipy as sc \n",
        "\n",
        "import arviz as az\n",
        "\n",
        "import theano.tensor as tt"
      ],
      "execution_count": null,
      "outputs": []
    },
    {
      "cell_type": "code",
      "metadata": {
        "id": "SJwMwDlx3vKK"
      },
      "source": [
        "def sim_pancake():\n",
        "  pancake = np.random.choice(3,1)\n",
        "  sides = np.array([[1, 1], [1,0], [0, 0]])[pancake,:].ravel()\n",
        "  return np.random.choice(sides, 1)[0], pancake[0]\n",
        "\n"
      ],
      "execution_count": null,
      "outputs": []
    },
    {
      "cell_type": "markdown",
      "metadata": {
        "id": "gtb9B-vuHbxF"
      },
      "source": [
        "# Code 15.1"
      ]
    },
    {
      "cell_type": "code",
      "metadata": {
        "id": "BJpORE6n6w56",
        "colab": {
          "base_uri": "https://localhost:8080/"
        },
        "outputId": "58735361-77ce-485a-e981-31affd28a4f3"
      },
      "source": [
        "# sim 10,000 pancakes\n",
        "num_simulation = 10000\n",
        "pancakes = np.zeros(num_simulation)\n",
        "sides = np.zeros(num_simulation)\n",
        "\n",
        "for i in range(num_simulation):\n",
        "  side, pancake = sim_pancake()\n",
        "  pancakes[i] = pancake\n",
        "  sides[i] = side\n",
        "\n",
        "# find if the face is burned \n",
        "index = sides == 1 \n",
        "# filter out those cases \n",
        "pancakes_ = pancakes[index]\n",
        "prob = np.sum(pancakes_ == 0)/len(pancakes_)\n",
        "print(prob)"
      ],
      "execution_count": null,
      "outputs": [
        {
          "output_type": "stream",
          "text": [
            "0.6655942087271265\n"
          ],
          "name": "stdout"
        }
      ]
    },
    {
      "cell_type": "markdown",
      "metadata": {
        "id": "qbVtv2XqRU9-"
      },
      "source": [
        "# Code 15.2"
      ]
    },
    {
      "cell_type": "code",
      "metadata": {
        "id": "4dlPDngQ6_EE",
        "colab": {
          "base_uri": "https://localhost:8080/",
          "height": 241
        },
        "outputId": "b4c541ec-c49f-4248-ef45-6a9a8aac6481"
      },
      "source": [
        "# 15.2\n",
        "waffle = \"https://raw.githubusercontent.com/pymc-devs/resources/master/Rethinking_2/Data/WaffleDivorce.csv\"\n",
        "d = pd.read_csv(waffle, delimiter=\";\")\n",
        "d.head()\n"
      ],
      "execution_count": null,
      "outputs": [
        {
          "output_type": "execute_result",
          "data": {
            "text/html": [
              "<div>\n",
              "<style scoped>\n",
              "    .dataframe tbody tr th:only-of-type {\n",
              "        vertical-align: middle;\n",
              "    }\n",
              "\n",
              "    .dataframe tbody tr th {\n",
              "        vertical-align: top;\n",
              "    }\n",
              "\n",
              "    .dataframe thead th {\n",
              "        text-align: right;\n",
              "    }\n",
              "</style>\n",
              "<table border=\"1\" class=\"dataframe\">\n",
              "  <thead>\n",
              "    <tr style=\"text-align: right;\">\n",
              "      <th></th>\n",
              "      <th>Location</th>\n",
              "      <th>Loc</th>\n",
              "      <th>Population</th>\n",
              "      <th>MedianAgeMarriage</th>\n",
              "      <th>Marriage</th>\n",
              "      <th>Marriage SE</th>\n",
              "      <th>Divorce</th>\n",
              "      <th>Divorce SE</th>\n",
              "      <th>WaffleHouses</th>\n",
              "      <th>South</th>\n",
              "      <th>Slaves1860</th>\n",
              "      <th>Population1860</th>\n",
              "      <th>PropSlaves1860</th>\n",
              "    </tr>\n",
              "  </thead>\n",
              "  <tbody>\n",
              "    <tr>\n",
              "      <th>0</th>\n",
              "      <td>Alabama</td>\n",
              "      <td>AL</td>\n",
              "      <td>4.78</td>\n",
              "      <td>25.3</td>\n",
              "      <td>20.2</td>\n",
              "      <td>1.27</td>\n",
              "      <td>12.7</td>\n",
              "      <td>0.79</td>\n",
              "      <td>128</td>\n",
              "      <td>1</td>\n",
              "      <td>435080</td>\n",
              "      <td>964201</td>\n",
              "      <td>0.45</td>\n",
              "    </tr>\n",
              "    <tr>\n",
              "      <th>1</th>\n",
              "      <td>Alaska</td>\n",
              "      <td>AK</td>\n",
              "      <td>0.71</td>\n",
              "      <td>25.2</td>\n",
              "      <td>26.0</td>\n",
              "      <td>2.93</td>\n",
              "      <td>12.5</td>\n",
              "      <td>2.05</td>\n",
              "      <td>0</td>\n",
              "      <td>0</td>\n",
              "      <td>0</td>\n",
              "      <td>0</td>\n",
              "      <td>0.00</td>\n",
              "    </tr>\n",
              "    <tr>\n",
              "      <th>2</th>\n",
              "      <td>Arizona</td>\n",
              "      <td>AZ</td>\n",
              "      <td>6.33</td>\n",
              "      <td>25.8</td>\n",
              "      <td>20.3</td>\n",
              "      <td>0.98</td>\n",
              "      <td>10.8</td>\n",
              "      <td>0.74</td>\n",
              "      <td>18</td>\n",
              "      <td>0</td>\n",
              "      <td>0</td>\n",
              "      <td>0</td>\n",
              "      <td>0.00</td>\n",
              "    </tr>\n",
              "    <tr>\n",
              "      <th>3</th>\n",
              "      <td>Arkansas</td>\n",
              "      <td>AR</td>\n",
              "      <td>2.92</td>\n",
              "      <td>24.3</td>\n",
              "      <td>26.4</td>\n",
              "      <td>1.70</td>\n",
              "      <td>13.5</td>\n",
              "      <td>1.22</td>\n",
              "      <td>41</td>\n",
              "      <td>1</td>\n",
              "      <td>111115</td>\n",
              "      <td>435450</td>\n",
              "      <td>0.26</td>\n",
              "    </tr>\n",
              "    <tr>\n",
              "      <th>4</th>\n",
              "      <td>California</td>\n",
              "      <td>CA</td>\n",
              "      <td>37.25</td>\n",
              "      <td>26.8</td>\n",
              "      <td>19.1</td>\n",
              "      <td>0.39</td>\n",
              "      <td>8.0</td>\n",
              "      <td>0.24</td>\n",
              "      <td>0</td>\n",
              "      <td>0</td>\n",
              "      <td>0</td>\n",
              "      <td>379994</td>\n",
              "      <td>0.00</td>\n",
              "    </tr>\n",
              "  </tbody>\n",
              "</table>\n",
              "</div>"
            ],
            "text/plain": [
              "     Location Loc  Population  ...  Slaves1860  Population1860  PropSlaves1860\n",
              "0     Alabama  AL        4.78  ...      435080          964201            0.45\n",
              "1      Alaska  AK        0.71  ...           0               0            0.00\n",
              "2     Arizona  AZ        6.33  ...           0               0            0.00\n",
              "3    Arkansas  AR        2.92  ...      111115          435450            0.26\n",
              "4  California  CA       37.25  ...           0          379994            0.00\n",
              "\n",
              "[5 rows x 13 columns]"
            ]
          },
          "metadata": {
            "tags": []
          },
          "execution_count": 4
        }
      ]
    },
    {
      "cell_type": "code",
      "metadata": {
        "id": "US5PNw_ZH7BX",
        "colab": {
          "base_uri": "https://localhost:8080/",
          "height": 279
        },
        "outputId": "4de74dd6-7ada-4411-9c2b-b6c15ab8ab45"
      },
      "source": [
        "_, ax = plt.subplots(1, 2, figsize=(12,4))\n",
        "ax[0].errorbar(d.MedianAgeMarriage, \n",
        "             d.Divorce, \n",
        "             d['Divorce SE'],\n",
        "             fmt='.', \n",
        "             color='k', \n",
        "             linewidth=0.5,\n",
        "             markerfacecolor='white',\n",
        "             markersize=10\n",
        "             )\n",
        "ax[0].set_xlabel(\"Median Age Marriage\")\n",
        "ax[0].set_ylabel(\"Divorce Rate\")\n",
        "\n",
        "ax[1].errorbar(d.Population, \n",
        "             d.Divorce, \n",
        "             d['Divorce SE'],\n",
        "             fmt='.', \n",
        "             color='k', \n",
        "             linewidth=0.5,\n",
        "             markerfacecolor='white',\n",
        "             markersize=10\n",
        "             )\n",
        "ax[1].set_xlim(0, 4)\n",
        "ax[1].set_xlabel(\"Log Population\")\n",
        "ax[1].set_ylabel(\"Divorce Rate\")\n",
        "\n",
        "plt.show()"
      ],
      "execution_count": null,
      "outputs": [
        {
          "output_type": "display_data",
          "data": {
            "image/png": "[encoded data removed]",
            "text/plain": [
              "<Figure size 864x288 with 2 Axes>"
            ]
          },
          "metadata": {
            "tags": [],
            "needs_background": "light"
          }
        }
      ]
    },
    {
      "cell_type": "markdown",
      "metadata": {
        "id": "NOhUqtR1Wsph"
      },
      "source": [
        "$$D_{obs, i} \\sim Normal(D_{TRUE, i}, D_{SE,i}) $$\n",
        "$$D_{TRUE, i} \\sim Normal(\\mu_i, \\sigma)$$\n",
        "$$\\mu_i = \\alpha + \\beta_A A_i + \\beta_M M_i$$\n",
        "$$\\alpha \\sim Normal(0, 0.2)$$\n",
        "$$\\beta_A \\sim Normal(0, 0.5)$$\n",
        "$$\\beta_M \\sim Normal(0, 0.5)$$\n",
        "$$ \\sigma \\sim Exponential(1)$$"
      ]
    },
    {
      "cell_type": "code",
      "metadata": {
        "id": "v0AGxbWUIZlz"
      },
      "source": [
        "def standardize(x):\n",
        "  return (x - np.mean(x))/np.std(x)"
      ],
      "execution_count": null,
      "outputs": []
    },
    {
      "cell_type": "markdown",
      "metadata": {
        "id": "5QBvRY7rLNvP"
      },
      "source": [
        "# Code 15.3"
      ]
    },
    {
      "cell_type": "code",
      "metadata": {
        "id": "dum4lGW7YZXg",
        "colab": {
          "base_uri": "https://localhost:8080/",
          "height": 196
        },
        "outputId": "2d1d12a1-644d-4e40-c05a-df6825a425d9"
      },
      "source": [
        "D_obs = standardize(d.Divorce)\n",
        "D_sd = d['Divorce SE']/np.std(d['Divorce'])\n",
        "M_ = standardize(d['Marriage'])\n",
        "A_ = standardize(d['MedianAgeMarriage'])\n",
        "N = len(d)\n",
        "\n",
        "with pm.Model() as m15_1:\n",
        "  A = pm.Data(\"A\", A_)\n",
        "  alpha = pm.Normal(\"a\", 0, 0.2)\n",
        "  bA = pm.Normal(\"bA\", 0, 0.5)\n",
        "  bM = pm.Normal(\"bM\", 0, 0.5)\n",
        "  sigma = pm.Exponential(\"sigma\", 1)\n",
        "  mu = alpha + bA * A + bM * M_ \n",
        "  D_true = pm.Normal(\"D_true\", mu, sigma, shape=N)\n",
        "  obs = pm.Normal(\"D_obs\", mu=D_true, sigma=D_sd, observed=D_obs)\n",
        "\n",
        "  trace_15_1 = pm.sample()"
      ],
      "execution_count": null,
      "outputs": [
        {
          "output_type": "stream",
          "text": [
            "/usr/local/lib/python3.6/dist-packages/pymc3/sampling.py:468: FutureWarning: In an upcoming release, pm.sample will return an `arviz.InferenceData` object instead of a `MultiTrace` by default. You can pass return_inferencedata=True or return_inferencedata=False to be safe and silence this warning.\n",
            "  FutureWarning,\n",
            "Auto-assigning NUTS sampler...\n",
            "Initializing NUTS using jitter+adapt_diag...\n",
            "Sequential sampling (2 chains in 1 job)\n",
            "NUTS: [D_true, sigma, bM, bA, a]\n"
          ],
          "name": "stderr"
        },
        {
          "output_type": "display_data",
          "data": {
            "text/html": [
              "\n",
              "    <div>\n",
              "        <style>\n",
              "            /* Turns off some styling */\n",
              "            progress {\n",
              "                /* gets rid of default border in Firefox and Opera. */\n",
              "                border: none;\n",
              "                /* Needs to be in here for Safari polyfill so background images work as expected. */\n",
              "                background-size: auto;\n",
              "            }\n",
              "            .progress-bar-interrupted, .progress-bar-interrupted::-webkit-progress-bar {\n",
              "                background: #F44336;\n",
              "            }\n",
              "        </style>\n",
              "      <progress value='2000' class='' max='2000' style='width:300px; height:20px; vertical-align: middle;'></progress>\n",
              "      100.00% [2000/2000 00:04<00:00 Sampling chain 0, 0 divergences]\n",
              "    </div>\n",
              "    "
            ],
            "text/plain": [
              "<IPython.core.display.HTML object>"
            ]
          },
          "metadata": {
            "tags": []
          }
        },
        {
          "output_type": "display_data",
          "data": {
            "text/html": [
              "\n",
              "    <div>\n",
              "        <style>\n",
              "            /* Turns off some styling */\n",
              "            progress {\n",
              "                /* gets rid of default border in Firefox and Opera. */\n",
              "                border: none;\n",
              "                /* Needs to be in here for Safari polyfill so background images work as expected. */\n",
              "                background-size: auto;\n",
              "            }\n",
              "            .progress-bar-interrupted, .progress-bar-interrupted::-webkit-progress-bar {\n",
              "                background: #F44336;\n",
              "            }\n",
              "        </style>\n",
              "      <progress value='2000' class='' max='2000' style='width:300px; height:20px; vertical-align: middle;'></progress>\n",
              "      100.00% [2000/2000 00:03<00:00 Sampling chain 1, 0 divergences]\n",
              "    </div>\n",
              "    "
            ],
            "text/plain": [
              "<IPython.core.display.HTML object>"
            ]
          },
          "metadata": {
            "tags": []
          }
        },
        {
          "output_type": "stream",
          "text": [
            "Sampling 2 chains for 1_000 tune and 1_000 draw iterations (2_000 + 2_000 draws total) took 8 seconds.\n"
          ],
          "name": "stderr"
        }
      ]
    },
    {
      "cell_type": "code",
      "metadata": {
        "id": "iPE-SFtlZMEb",
        "colab": {
          "base_uri": "https://localhost:8080/",
          "height": 1000
        },
        "outputId": "61c9859d-241d-4745-c3b5-19b18272f88c"
      },
      "source": [
        "pm.summary(trace_15_1,round_to=2)"
      ],
      "execution_count": null,
      "outputs": [
        {
          "output_type": "stream",
          "text": [
            "/usr/local/lib/python3.6/dist-packages/arviz/data/io_pymc3.py:92: FutureWarning: Using `from_pymc3` without the model will be deprecated in a future release. Not using the model will return less accurate and less useful results. Make sure you use the model argument or call from_pymc3 within a model context.\n",
            "  FutureWarning,\n"
          ],
          "name": "stderr"
        },
        {
          "output_type": "execute_result",
          "data": {
            "text/html": [
              "<div>\n",
              "<style scoped>\n",
              "    .dataframe tbody tr th:only-of-type {\n",
              "        vertical-align: middle;\n",
              "    }\n",
              "\n",
              "    .dataframe tbody tr th {\n",
              "        vertical-align: top;\n",
              "    }\n",
              "\n",
              "    .dataframe thead th {\n",
              "        text-align: right;\n",
              "    }\n",
              "</style>\n",
              "<table border=\"1\" class=\"dataframe\">\n",
              "  <thead>\n",
              "    <tr style=\"text-align: right;\">\n",
              "      <th></th>\n",
              "      <th>mean</th>\n",
              "      <th>sd</th>\n",
              "      <th>hdi_3%</th>\n",
              "      <th>hdi_97%</th>\n",
              "      <th>mcse_mean</th>\n",
              "      <th>mcse_sd</th>\n",
              "      <th>ess_mean</th>\n",
              "      <th>ess_sd</th>\n",
              "      <th>ess_bulk</th>\n",
              "      <th>ess_tail</th>\n",
              "      <th>r_hat</th>\n",
              "    </tr>\n",
              "  </thead>\n",
              "  <tbody>\n",
              "    <tr>\n",
              "      <th>a</th>\n",
              "      <td>-0.06</td>\n",
              "      <td>0.10</td>\n",
              "      <td>-0.25</td>\n",
              "      <td>0.12</td>\n",
              "      <td>0.00</td>\n",
              "      <td>0.00</td>\n",
              "      <td>1346.25</td>\n",
              "      <td>1293.99</td>\n",
              "      <td>1349.83</td>\n",
              "      <td>1442.48</td>\n",
              "      <td>1.0</td>\n",
              "    </tr>\n",
              "    <tr>\n",
              "      <th>bA</th>\n",
              "      <td>-0.61</td>\n",
              "      <td>0.15</td>\n",
              "      <td>-0.89</td>\n",
              "      <td>-0.32</td>\n",
              "      <td>0.00</td>\n",
              "      <td>0.00</td>\n",
              "      <td>994.86</td>\n",
              "      <td>994.86</td>\n",
              "      <td>999.24</td>\n",
              "      <td>1222.28</td>\n",
              "      <td>1.0</td>\n",
              "    </tr>\n",
              "    <tr>\n",
              "      <th>bM</th>\n",
              "      <td>0.05</td>\n",
              "      <td>0.16</td>\n",
              "      <td>-0.26</td>\n",
              "      <td>0.35</td>\n",
              "      <td>0.01</td>\n",
              "      <td>0.00</td>\n",
              "      <td>1037.91</td>\n",
              "      <td>1037.91</td>\n",
              "      <td>1036.82</td>\n",
              "      <td>1280.73</td>\n",
              "      <td>1.0</td>\n",
              "    </tr>\n",
              "    <tr>\n",
              "      <th>D_true[0]</th>\n",
              "      <td>1.17</td>\n",
              "      <td>0.36</td>\n",
              "      <td>0.44</td>\n",
              "      <td>1.82</td>\n",
              "      <td>0.01</td>\n",
              "      <td>0.01</td>\n",
              "      <td>1711.72</td>\n",
              "      <td>1677.47</td>\n",
              "      <td>1704.74</td>\n",
              "      <td>1272.25</td>\n",
              "      <td>1.0</td>\n",
              "    </tr>\n",
              "    <tr>\n",
              "      <th>D_true[1]</th>\n",
              "      <td>0.67</td>\n",
              "      <td>0.57</td>\n",
              "      <td>-0.37</td>\n",
              "      <td>1.78</td>\n",
              "      <td>0.01</td>\n",
              "      <td>0.01</td>\n",
              "      <td>1873.44</td>\n",
              "      <td>1275.33</td>\n",
              "      <td>1882.48</td>\n",
              "      <td>1273.22</td>\n",
              "      <td>1.0</td>\n",
              "    </tr>\n",
              "    <tr>\n",
              "      <th>D_true[2]</th>\n",
              "      <td>0.42</td>\n",
              "      <td>0.34</td>\n",
              "      <td>-0.25</td>\n",
              "      <td>1.02</td>\n",
              "      <td>0.01</td>\n",
              "      <td>0.01</td>\n",
              "      <td>3017.95</td>\n",
              "      <td>1632.28</td>\n",
              "      <td>3117.76</td>\n",
              "      <td>1335.03</td>\n",
              "      <td>1.0</td>\n",
              "    </tr>\n",
              "    <tr>\n",
              "      <th>D_true[3]</th>\n",
              "      <td>1.42</td>\n",
              "      <td>0.47</td>\n",
              "      <td>0.59</td>\n",
              "      <td>2.28</td>\n",
              "      <td>0.01</td>\n",
              "      <td>0.01</td>\n",
              "      <td>1597.83</td>\n",
              "      <td>1595.70</td>\n",
              "      <td>1584.50</td>\n",
              "      <td>1416.80</td>\n",
              "      <td>1.0</td>\n",
              "    </tr>\n",
              "    <tr>\n",
              "      <th>D_true[4]</th>\n",
              "      <td>-0.91</td>\n",
              "      <td>0.13</td>\n",
              "      <td>-1.19</td>\n",
              "      <td>-0.67</td>\n",
              "      <td>0.00</td>\n",
              "      <td>0.00</td>\n",
              "      <td>2885.39</td>\n",
              "      <td>2885.39</td>\n",
              "      <td>2918.26</td>\n",
              "      <td>1223.20</td>\n",
              "      <td>1.0</td>\n",
              "    </tr>\n",
              "    <tr>\n",
              "      <th>D_true[5]</th>\n",
              "      <td>0.65</td>\n",
              "      <td>0.39</td>\n",
              "      <td>-0.04</td>\n",
              "      <td>1.41</td>\n",
              "      <td>0.01</td>\n",
              "      <td>0.01</td>\n",
              "      <td>2055.66</td>\n",
              "      <td>1739.36</td>\n",
              "      <td>2049.83</td>\n",
              "      <td>1326.55</td>\n",
              "      <td>1.0</td>\n",
              "    </tr>\n",
              "    <tr>\n",
              "      <th>D_true[6]</th>\n",
              "      <td>-1.38</td>\n",
              "      <td>0.37</td>\n",
              "      <td>-2.05</td>\n",
              "      <td>-0.65</td>\n",
              "      <td>0.01</td>\n",
              "      <td>0.01</td>\n",
              "      <td>2365.28</td>\n",
              "      <td>2266.84</td>\n",
              "      <td>2380.31</td>\n",
              "      <td>1409.09</td>\n",
              "      <td>1.0</td>\n",
              "    </tr>\n",
              "    <tr>\n",
              "      <th>D_true[7]</th>\n",
              "      <td>-0.36</td>\n",
              "      <td>0.51</td>\n",
              "      <td>-1.34</td>\n",
              "      <td>0.58</td>\n",
              "      <td>0.01</td>\n",
              "      <td>0.01</td>\n",
              "      <td>2201.94</td>\n",
              "      <td>1091.25</td>\n",
              "      <td>2183.62</td>\n",
              "      <td>1328.01</td>\n",
              "      <td>1.0</td>\n",
              "    </tr>\n",
              "    <tr>\n",
              "      <th>D_true[8]</th>\n",
              "      <td>-1.90</td>\n",
              "      <td>0.59</td>\n",
              "      <td>-2.97</td>\n",
              "      <td>-0.71</td>\n",
              "      <td>0.01</td>\n",
              "      <td>0.01</td>\n",
              "      <td>1813.91</td>\n",
              "      <td>1806.79</td>\n",
              "      <td>1829.06</td>\n",
              "      <td>1440.88</td>\n",
              "      <td>1.0</td>\n",
              "    </tr>\n",
              "    <tr>\n",
              "      <th>D_true[9]</th>\n",
              "      <td>-0.62</td>\n",
              "      <td>0.17</td>\n",
              "      <td>-0.93</td>\n",
              "      <td>-0.31</td>\n",
              "      <td>0.00</td>\n",
              "      <td>0.00</td>\n",
              "      <td>2289.79</td>\n",
              "      <td>1970.37</td>\n",
              "      <td>2312.81</td>\n",
              "      <td>1178.00</td>\n",
              "      <td>1.0</td>\n",
              "    </tr>\n",
              "    <tr>\n",
              "      <th>D_true[10]</th>\n",
              "      <td>0.78</td>\n",
              "      <td>0.30</td>\n",
              "      <td>0.17</td>\n",
              "      <td>1.29</td>\n",
              "      <td>0.01</td>\n",
              "      <td>0.01</td>\n",
              "      <td>1720.50</td>\n",
              "      <td>1688.37</td>\n",
              "      <td>1724.91</td>\n",
              "      <td>1337.47</td>\n",
              "      <td>1.0</td>\n",
              "    </tr>\n",
              "    <tr>\n",
              "      <th>D_true[11]</th>\n",
              "      <td>-0.57</td>\n",
              "      <td>0.46</td>\n",
              "      <td>-1.44</td>\n",
              "      <td>0.31</td>\n",
              "      <td>0.01</td>\n",
              "      <td>0.01</td>\n",
              "      <td>1977.14</td>\n",
              "      <td>1727.26</td>\n",
              "      <td>1958.62</td>\n",
              "      <td>1696.55</td>\n",
              "      <td>1.0</td>\n",
              "    </tr>\n",
              "    <tr>\n",
              "      <th>D_true[12]</th>\n",
              "      <td>0.17</td>\n",
              "      <td>0.50</td>\n",
              "      <td>-0.73</td>\n",
              "      <td>1.14</td>\n",
              "      <td>0.01</td>\n",
              "      <td>0.01</td>\n",
              "      <td>1377.43</td>\n",
              "      <td>1180.80</td>\n",
              "      <td>1374.04</td>\n",
              "      <td>1208.13</td>\n",
              "      <td>1.0</td>\n",
              "    </tr>\n",
              "    <tr>\n",
              "      <th>D_true[13]</th>\n",
              "      <td>-0.88</td>\n",
              "      <td>0.23</td>\n",
              "      <td>-1.31</td>\n",
              "      <td>-0.47</td>\n",
              "      <td>0.01</td>\n",
              "      <td>0.00</td>\n",
              "      <td>1940.25</td>\n",
              "      <td>1900.96</td>\n",
              "      <td>1943.56</td>\n",
              "      <td>1289.03</td>\n",
              "      <td>1.0</td>\n",
              "    </tr>\n",
              "    <tr>\n",
              "      <th>D_true[14]</th>\n",
              "      <td>0.56</td>\n",
              "      <td>0.29</td>\n",
              "      <td>0.04</td>\n",
              "      <td>1.11</td>\n",
              "      <td>0.01</td>\n",
              "      <td>0.00</td>\n",
              "      <td>2308.40</td>\n",
              "      <td>2024.07</td>\n",
              "      <td>2290.06</td>\n",
              "      <td>1297.65</td>\n",
              "      <td>1.0</td>\n",
              "    </tr>\n",
              "    <tr>\n",
              "      <th>D_true[15]</th>\n",
              "      <td>0.27</td>\n",
              "      <td>0.38</td>\n",
              "      <td>-0.40</td>\n",
              "      <td>1.00</td>\n",
              "      <td>0.01</td>\n",
              "      <td>0.01</td>\n",
              "      <td>3035.97</td>\n",
              "      <td>1037.69</td>\n",
              "      <td>2927.40</td>\n",
              "      <td>1194.06</td>\n",
              "      <td>1.0</td>\n",
              "    </tr>\n",
              "    <tr>\n",
              "      <th>D_true[16]</th>\n",
              "      <td>0.49</td>\n",
              "      <td>0.41</td>\n",
              "      <td>-0.27</td>\n",
              "      <td>1.27</td>\n",
              "      <td>0.01</td>\n",
              "      <td>0.01</td>\n",
              "      <td>2480.63</td>\n",
              "      <td>1555.71</td>\n",
              "      <td>2453.25</td>\n",
              "      <td>1463.60</td>\n",
              "      <td>1.0</td>\n",
              "    </tr>\n",
              "    <tr>\n",
              "      <th>D_true[17]</th>\n",
              "      <td>1.26</td>\n",
              "      <td>0.35</td>\n",
              "      <td>0.59</td>\n",
              "      <td>1.90</td>\n",
              "      <td>0.01</td>\n",
              "      <td>0.01</td>\n",
              "      <td>2493.05</td>\n",
              "      <td>2363.53</td>\n",
              "      <td>2482.31</td>\n",
              "      <td>1212.34</td>\n",
              "      <td>1.0</td>\n",
              "    </tr>\n",
              "    <tr>\n",
              "      <th>D_true[18]</th>\n",
              "      <td>0.41</td>\n",
              "      <td>0.39</td>\n",
              "      <td>-0.37</td>\n",
              "      <td>1.09</td>\n",
              "      <td>0.01</td>\n",
              "      <td>0.01</td>\n",
              "      <td>2118.31</td>\n",
              "      <td>1288.77</td>\n",
              "      <td>2128.28</td>\n",
              "      <td>1260.15</td>\n",
              "      <td>1.0</td>\n",
              "    </tr>\n",
              "    <tr>\n",
              "      <th>D_true[19]</th>\n",
              "      <td>0.39</td>\n",
              "      <td>0.52</td>\n",
              "      <td>-0.61</td>\n",
              "      <td>1.29</td>\n",
              "      <td>0.01</td>\n",
              "      <td>0.01</td>\n",
              "      <td>1739.84</td>\n",
              "      <td>1322.54</td>\n",
              "      <td>1718.62</td>\n",
              "      <td>1035.02</td>\n",
              "      <td>1.0</td>\n",
              "    </tr>\n",
              "    <tr>\n",
              "      <th>D_true[20]</th>\n",
              "      <td>-0.56</td>\n",
              "      <td>0.33</td>\n",
              "      <td>-1.17</td>\n",
              "      <td>0.04</td>\n",
              "      <td>0.01</td>\n",
              "      <td>0.00</td>\n",
              "      <td>2868.30</td>\n",
              "      <td>2193.43</td>\n",
              "      <td>2813.52</td>\n",
              "      <td>1219.02</td>\n",
              "      <td>1.0</td>\n",
              "    </tr>\n",
              "    <tr>\n",
              "      <th>D_true[21]</th>\n",
              "      <td>-1.12</td>\n",
              "      <td>0.26</td>\n",
              "      <td>-1.62</td>\n",
              "      <td>-0.64</td>\n",
              "      <td>0.01</td>\n",
              "      <td>0.00</td>\n",
              "      <td>2003.09</td>\n",
              "      <td>1908.69</td>\n",
              "      <td>1999.49</td>\n",
              "      <td>1443.17</td>\n",
              "      <td>1.0</td>\n",
              "    </tr>\n",
              "    <tr>\n",
              "      <th>D_true[22]</th>\n",
              "      <td>-0.28</td>\n",
              "      <td>0.26</td>\n",
              "      <td>-0.77</td>\n",
              "      <td>0.21</td>\n",
              "      <td>0.00</td>\n",
              "      <td>0.00</td>\n",
              "      <td>2812.91</td>\n",
              "      <td>1681.26</td>\n",
              "      <td>2809.67</td>\n",
              "      <td>1350.26</td>\n",
              "      <td>1.0</td>\n",
              "    </tr>\n",
              "    <tr>\n",
              "      <th>D_true[23]</th>\n",
              "      <td>-1.01</td>\n",
              "      <td>0.30</td>\n",
              "      <td>-1.54</td>\n",
              "      <td>-0.41</td>\n",
              "      <td>0.01</td>\n",
              "      <td>0.01</td>\n",
              "      <td>1477.03</td>\n",
              "      <td>1477.03</td>\n",
              "      <td>1446.09</td>\n",
              "      <td>938.34</td>\n",
              "      <td>1.0</td>\n",
              "    </tr>\n",
              "    <tr>\n",
              "      <th>D_true[24]</th>\n",
              "      <td>0.42</td>\n",
              "      <td>0.41</td>\n",
              "      <td>-0.34</td>\n",
              "      <td>1.22</td>\n",
              "      <td>0.01</td>\n",
              "      <td>0.01</td>\n",
              "      <td>2417.29</td>\n",
              "      <td>1477.75</td>\n",
              "      <td>2419.73</td>\n",
              "      <td>1399.32</td>\n",
              "      <td>1.0</td>\n",
              "    </tr>\n",
              "    <tr>\n",
              "      <th>D_true[25]</th>\n",
              "      <td>-0.05</td>\n",
              "      <td>0.31</td>\n",
              "      <td>-0.63</td>\n",
              "      <td>0.50</td>\n",
              "      <td>0.01</td>\n",
              "      <td>0.01</td>\n",
              "      <td>2473.53</td>\n",
              "      <td>969.01</td>\n",
              "      <td>2480.90</td>\n",
              "      <td>1403.82</td>\n",
              "      <td>1.0</td>\n",
              "    </tr>\n",
              "    <tr>\n",
              "      <th>D_true[26]</th>\n",
              "      <td>-0.06</td>\n",
              "      <td>0.50</td>\n",
              "      <td>-1.06</td>\n",
              "      <td>0.80</td>\n",
              "      <td>0.01</td>\n",
              "      <td>0.01</td>\n",
              "      <td>2345.09</td>\n",
              "      <td>863.06</td>\n",
              "      <td>2401.28</td>\n",
              "      <td>1347.19</td>\n",
              "      <td>1.0</td>\n",
              "    </tr>\n",
              "    <tr>\n",
              "      <th>D_true[27]</th>\n",
              "      <td>-0.17</td>\n",
              "      <td>0.41</td>\n",
              "      <td>-1.00</td>\n",
              "      <td>0.56</td>\n",
              "      <td>0.01</td>\n",
              "      <td>0.01</td>\n",
              "      <td>1845.86</td>\n",
              "      <td>1102.64</td>\n",
              "      <td>1851.88</td>\n",
              "      <td>1341.60</td>\n",
              "      <td>1.0</td>\n",
              "    </tr>\n",
              "    <tr>\n",
              "      <th>D_true[28]</th>\n",
              "      <td>-0.28</td>\n",
              "      <td>0.50</td>\n",
              "      <td>-1.16</td>\n",
              "      <td>0.72</td>\n",
              "      <td>0.01</td>\n",
              "      <td>0.01</td>\n",
              "      <td>3472.48</td>\n",
              "      <td>1342.01</td>\n",
              "      <td>3532.31</td>\n",
              "      <td>1457.01</td>\n",
              "      <td>1.0</td>\n",
              "    </tr>\n",
              "    <tr>\n",
              "      <th>D_true[29]</th>\n",
              "      <td>-1.83</td>\n",
              "      <td>0.24</td>\n",
              "      <td>-2.30</td>\n",
              "      <td>-1.40</td>\n",
              "      <td>0.00</td>\n",
              "      <td>0.00</td>\n",
              "      <td>2394.79</td>\n",
              "      <td>2372.66</td>\n",
              "      <td>2417.62</td>\n",
              "      <td>1013.92</td>\n",
              "      <td>1.0</td>\n",
              "    </tr>\n",
              "    <tr>\n",
              "      <th>D_true[30]</th>\n",
              "      <td>0.16</td>\n",
              "      <td>0.44</td>\n",
              "      <td>-0.64</td>\n",
              "      <td>0.98</td>\n",
              "      <td>0.01</td>\n",
              "      <td>0.01</td>\n",
              "      <td>2879.58</td>\n",
              "      <td>799.08</td>\n",
              "      <td>2961.39</td>\n",
              "      <td>1022.52</td>\n",
              "      <td>1.0</td>\n",
              "    </tr>\n",
              "    <tr>\n",
              "      <th>D_true[31]</th>\n",
              "      <td>-1.68</td>\n",
              "      <td>0.17</td>\n",
              "      <td>-2.00</td>\n",
              "      <td>-1.35</td>\n",
              "      <td>0.00</td>\n",
              "      <td>0.00</td>\n",
              "      <td>2882.21</td>\n",
              "      <td>2756.06</td>\n",
              "      <td>2932.49</td>\n",
              "      <td>1355.17</td>\n",
              "      <td>1.0</td>\n",
              "    </tr>\n",
              "    <tr>\n",
              "      <th>D_true[32]</th>\n",
              "      <td>0.12</td>\n",
              "      <td>0.23</td>\n",
              "      <td>-0.32</td>\n",
              "      <td>0.58</td>\n",
              "      <td>0.00</td>\n",
              "      <td>0.01</td>\n",
              "      <td>2301.08</td>\n",
              "      <td>999.10</td>\n",
              "      <td>2315.14</td>\n",
              "      <td>1383.73</td>\n",
              "      <td>1.0</td>\n",
              "    </tr>\n",
              "    <tr>\n",
              "      <th>D_true[33]</th>\n",
              "      <td>-0.06</td>\n",
              "      <td>0.52</td>\n",
              "      <td>-1.02</td>\n",
              "      <td>0.91</td>\n",
              "      <td>0.01</td>\n",
              "      <td>0.01</td>\n",
              "      <td>1856.11</td>\n",
              "      <td>1076.45</td>\n",
              "      <td>1860.59</td>\n",
              "      <td>1393.92</td>\n",
              "      <td>1.0</td>\n",
              "    </tr>\n",
              "    <tr>\n",
              "      <th>D_true[34]</th>\n",
              "      <td>-0.12</td>\n",
              "      <td>0.23</td>\n",
              "      <td>-0.57</td>\n",
              "      <td>0.31</td>\n",
              "      <td>0.00</td>\n",
              "      <td>0.00</td>\n",
              "      <td>2652.97</td>\n",
              "      <td>1250.08</td>\n",
              "      <td>2650.32</td>\n",
              "      <td>1499.27</td>\n",
              "      <td>1.0</td>\n",
              "    </tr>\n",
              "    <tr>\n",
              "      <th>D_true[35]</th>\n",
              "      <td>1.27</td>\n",
              "      <td>0.40</td>\n",
              "      <td>0.53</td>\n",
              "      <td>2.03</td>\n",
              "      <td>0.01</td>\n",
              "      <td>0.01</td>\n",
              "      <td>2423.76</td>\n",
              "      <td>2297.44</td>\n",
              "      <td>2395.42</td>\n",
              "      <td>1407.56</td>\n",
              "      <td>1.0</td>\n",
              "    </tr>\n",
              "    <tr>\n",
              "      <th>D_true[36]</th>\n",
              "      <td>0.23</td>\n",
              "      <td>0.38</td>\n",
              "      <td>-0.53</td>\n",
              "      <td>0.89</td>\n",
              "      <td>0.01</td>\n",
              "      <td>0.01</td>\n",
              "      <td>2776.70</td>\n",
              "      <td>1014.95</td>\n",
              "      <td>2778.60</td>\n",
              "      <td>1403.94</td>\n",
              "      <td>1.0</td>\n",
              "    </tr>\n",
              "    <tr>\n",
              "      <th>D_true[37]</th>\n",
              "      <td>-1.04</td>\n",
              "      <td>0.22</td>\n",
              "      <td>-1.47</td>\n",
              "      <td>-0.66</td>\n",
              "      <td>0.00</td>\n",
              "      <td>0.00</td>\n",
              "      <td>2266.67</td>\n",
              "      <td>2229.71</td>\n",
              "      <td>2334.51</td>\n",
              "      <td>1253.80</td>\n",
              "      <td>1.0</td>\n",
              "    </tr>\n",
              "    <tr>\n",
              "      <th>D_true[38]</th>\n",
              "      <td>-0.93</td>\n",
              "      <td>0.55</td>\n",
              "      <td>-1.90</td>\n",
              "      <td>0.16</td>\n",
              "      <td>0.01</td>\n",
              "      <td>0.01</td>\n",
              "      <td>2013.43</td>\n",
              "      <td>1746.13</td>\n",
              "      <td>2022.62</td>\n",
              "      <td>1373.79</td>\n",
              "      <td>1.0</td>\n",
              "    </tr>\n",
              "    <tr>\n",
              "      <th>D_true[39]</th>\n",
              "      <td>-0.69</td>\n",
              "      <td>0.33</td>\n",
              "      <td>-1.33</td>\n",
              "      <td>-0.12</td>\n",
              "      <td>0.01</td>\n",
              "      <td>0.01</td>\n",
              "      <td>2643.78</td>\n",
              "      <td>2088.89</td>\n",
              "      <td>2642.22</td>\n",
              "      <td>1424.97</td>\n",
              "      <td>1.0</td>\n",
              "    </tr>\n",
              "    <tr>\n",
              "      <th>D_true[40]</th>\n",
              "      <td>0.22</td>\n",
              "      <td>0.55</td>\n",
              "      <td>-0.82</td>\n",
              "      <td>1.26</td>\n",
              "      <td>0.01</td>\n",
              "      <td>0.01</td>\n",
              "      <td>2373.30</td>\n",
              "      <td>1097.64</td>\n",
              "      <td>2441.38</td>\n",
              "      <td>1264.12</td>\n",
              "      <td>1.0</td>\n",
              "    </tr>\n",
              "    <tr>\n",
              "      <th>D_true[41]</th>\n",
              "      <td>0.74</td>\n",
              "      <td>0.35</td>\n",
              "      <td>0.07</td>\n",
              "      <td>1.38</td>\n",
              "      <td>0.01</td>\n",
              "      <td>0.01</td>\n",
              "      <td>1995.36</td>\n",
              "      <td>1539.47</td>\n",
              "      <td>2029.83</td>\n",
              "      <td>1320.51</td>\n",
              "      <td>1.0</td>\n",
              "    </tr>\n",
              "    <tr>\n",
              "      <th>D_true[42]</th>\n",
              "      <td>0.20</td>\n",
              "      <td>0.19</td>\n",
              "      <td>-0.14</td>\n",
              "      <td>0.55</td>\n",
              "      <td>0.00</td>\n",
              "      <td>0.00</td>\n",
              "      <td>2105.10</td>\n",
              "      <td>1335.85</td>\n",
              "      <td>2121.79</td>\n",
              "      <td>1142.50</td>\n",
              "      <td>1.0</td>\n",
              "    </tr>\n",
              "    <tr>\n",
              "      <th>D_true[43]</th>\n",
              "      <td>0.81</td>\n",
              "      <td>0.43</td>\n",
              "      <td>0.02</td>\n",
              "      <td>1.63</td>\n",
              "      <td>0.01</td>\n",
              "      <td>0.01</td>\n",
              "      <td>1942.95</td>\n",
              "      <td>1701.93</td>\n",
              "      <td>1940.42</td>\n",
              "      <td>1334.78</td>\n",
              "      <td>1.0</td>\n",
              "    </tr>\n",
              "    <tr>\n",
              "      <th>D_true[44]</th>\n",
              "      <td>-0.42</td>\n",
              "      <td>0.53</td>\n",
              "      <td>-1.38</td>\n",
              "      <td>0.56</td>\n",
              "      <td>0.01</td>\n",
              "      <td>0.01</td>\n",
              "      <td>1824.72</td>\n",
              "      <td>1270.78</td>\n",
              "      <td>1837.17</td>\n",
              "      <td>1335.67</td>\n",
              "      <td>1.0</td>\n",
              "    </tr>\n",
              "    <tr>\n",
              "      <th>D_true[45]</th>\n",
              "      <td>-0.40</td>\n",
              "      <td>0.26</td>\n",
              "      <td>-0.87</td>\n",
              "      <td>0.09</td>\n",
              "      <td>0.01</td>\n",
              "      <td>0.00</td>\n",
              "      <td>2260.91</td>\n",
              "      <td>1633.17</td>\n",
              "      <td>2246.16</td>\n",
              "      <td>1338.27</td>\n",
              "      <td>1.0</td>\n",
              "    </tr>\n",
              "    <tr>\n",
              "      <th>D_true[46]</th>\n",
              "      <td>0.14</td>\n",
              "      <td>0.31</td>\n",
              "      <td>-0.49</td>\n",
              "      <td>0.68</td>\n",
              "      <td>0.01</td>\n",
              "      <td>0.01</td>\n",
              "      <td>2312.27</td>\n",
              "      <td>927.29</td>\n",
              "      <td>2316.11</td>\n",
              "      <td>1291.47</td>\n",
              "      <td>1.0</td>\n",
              "    </tr>\n",
              "    <tr>\n",
              "      <th>D_true[47]</th>\n",
              "      <td>0.55</td>\n",
              "      <td>0.45</td>\n",
              "      <td>-0.31</td>\n",
              "      <td>1.38</td>\n",
              "      <td>0.01</td>\n",
              "      <td>0.01</td>\n",
              "      <td>3325.29</td>\n",
              "      <td>2004.16</td>\n",
              "      <td>3248.31</td>\n",
              "      <td>1628.67</td>\n",
              "      <td>1.0</td>\n",
              "    </tr>\n",
              "    <tr>\n",
              "      <th>D_true[48]</th>\n",
              "      <td>-0.64</td>\n",
              "      <td>0.28</td>\n",
              "      <td>-1.16</td>\n",
              "      <td>-0.12</td>\n",
              "      <td>0.01</td>\n",
              "      <td>0.00</td>\n",
              "      <td>2190.97</td>\n",
              "      <td>2013.38</td>\n",
              "      <td>2197.93</td>\n",
              "      <td>1243.23</td>\n",
              "      <td>1.0</td>\n",
              "    </tr>\n",
              "    <tr>\n",
              "      <th>D_true[49]</th>\n",
              "      <td>0.86</td>\n",
              "      <td>0.60</td>\n",
              "      <td>-0.22</td>\n",
              "      <td>1.99</td>\n",
              "      <td>0.01</td>\n",
              "      <td>0.01</td>\n",
              "      <td>1849.51</td>\n",
              "      <td>1620.10</td>\n",
              "      <td>1827.01</td>\n",
              "      <td>1482.46</td>\n",
              "      <td>1.0</td>\n",
              "    </tr>\n",
              "    <tr>\n",
              "      <th>sigma</th>\n",
              "      <td>0.59</td>\n",
              "      <td>0.11</td>\n",
              "      <td>0.41</td>\n",
              "      <td>0.81</td>\n",
              "      <td>0.00</td>\n",
              "      <td>0.00</td>\n",
              "      <td>658.35</td>\n",
              "      <td>658.35</td>\n",
              "      <td>619.04</td>\n",
              "      <td>509.01</td>\n",
              "      <td>1.0</td>\n",
              "    </tr>\n",
              "  </tbody>\n",
              "</table>\n",
              "</div>"
            ],
            "text/plain": [
              "            mean    sd  hdi_3%  hdi_97%  ...   ess_sd  ess_bulk  ess_tail  r_hat\n",
              "a          -0.06  0.10   -0.25     0.12  ...  1293.99   1349.83   1442.48    1.0\n",
              "bA         -0.61  0.15   -0.89    -0.32  ...   994.86    999.24   1222.28    1.0\n",
              "bM          0.05  0.16   -0.26     0.35  ...  1037.91   1036.82   1280.73    1.0\n",
              "D_true[0]   1.17  0.36    0.44     1.82  ...  1677.47   1704.74   1272.25    1.0\n",
              "D_true[1]   0.67  0.57   -0.37     1.78  ...  1275.33   1882.48   1273.22    1.0\n",
              "D_true[2]   0.42  0.34   -0.25     1.02  ...  1632.28   3117.76   1335.03    1.0\n",
              "D_true[3]   1.42  0.47    0.59     2.28  ...  1595.70   1584.50   1416.80    1.0\n",
              "D_true[4]  -0.91  0.13   -1.19    -0.67  ...  2885.39   2918.26   1223.20    1.0\n",
              "D_true[5]   0.65  0.39   -0.04     1.41  ...  1739.36   2049.83   1326.55    1.0\n",
              "D_true[6]  -1.38  0.37   -2.05    -0.65  ...  2266.84   2380.31   1409.09    1.0\n",
              "D_true[7]  -0.36  0.51   -1.34     0.58  ...  1091.25   2183.62   1328.01    1.0\n",
              "D_true[8]  -1.90  0.59   -2.97    -0.71  ...  1806.79   1829.06   1440.88    1.0\n",
              "D_true[9]  -0.62  0.17   -0.93    -0.31  ...  1970.37   2312.81   1178.00    1.0\n",
              "D_true[10]  0.78  0.30    0.17     1.29  ...  1688.37   1724.91   1337.47    1.0\n",
              "D_true[11] -0.57  0.46   -1.44     0.31  ...  1727.26   1958.62   1696.55    1.0\n",
              "D_true[12]  0.17  0.50   -0.73     1.14  ...  1180.80   1374.04   1208.13    1.0\n",
              "D_true[13] -0.88  0.23   -1.31    -0.47  ...  1900.96   1943.56   1289.03    1.0\n",
              "D_true[14]  0.56  0.29    0.04     1.11  ...  2024.07   2290.06   1297.65    1.0\n",
              "D_true[15]  0.27  0.38   -0.40     1.00  ...  1037.69   2927.40   1194.06    1.0\n",
              "D_true[16]  0.49  0.41   -0.27     1.27  ...  1555.71   2453.25   1463.60    1.0\n",
              "D_true[17]  1.26  0.35    0.59     1.90  ...  2363.53   2482.31   1212.34    1.0\n",
              "D_true[18]  0.41  0.39   -0.37     1.09  ...  1288.77   2128.28   1260.15    1.0\n",
              "D_true[19]  0.39  0.52   -0.61     1.29  ...  1322.54   1718.62   1035.02    1.0\n",
              "D_true[20] -0.56  0.33   -1.17     0.04  ...  2193.43   2813.52   1219.02    1.0\n",
              "D_true[21] -1.12  0.26   -1.62    -0.64  ...  1908.69   1999.49   1443.17    1.0\n",
              "D_true[22] -0.28  0.26   -0.77     0.21  ...  1681.26   2809.67   1350.26    1.0\n",
              "D_true[23] -1.01  0.30   -1.54    -0.41  ...  1477.03   1446.09    938.34    1.0\n",
              "D_true[24]  0.42  0.41   -0.34     1.22  ...  1477.75   2419.73   1399.32    1.0\n",
              "D_true[25] -0.05  0.31   -0.63     0.50  ...   969.01   2480.90   1403.82    1.0\n",
              "D_true[26] -0.06  0.50   -1.06     0.80  ...   863.06   2401.28   1347.19    1.0\n",
              "D_true[27] -0.17  0.41   -1.00     0.56  ...  1102.64   1851.88   1341.60    1.0\n",
              "D_true[28] -0.28  0.50   -1.16     0.72  ...  1342.01   3532.31   1457.01    1.0\n",
              "D_true[29] -1.83  0.24   -2.30    -1.40  ...  2372.66   2417.62   1013.92    1.0\n",
              "D_true[30]  0.16  0.44   -0.64     0.98  ...   799.08   2961.39   1022.52    1.0\n",
              "D_true[31] -1.68  0.17   -2.00    -1.35  ...  2756.06   2932.49   1355.17    1.0\n",
              "D_true[32]  0.12  0.23   -0.32     0.58  ...   999.10   2315.14   1383.73    1.0\n",
              "D_true[33] -0.06  0.52   -1.02     0.91  ...  1076.45   1860.59   1393.92    1.0\n",
              "D_true[34] -0.12  0.23   -0.57     0.31  ...  1250.08   2650.32   1499.27    1.0\n",
              "D_true[35]  1.27  0.40    0.53     2.03  ...  2297.44   2395.42   1407.56    1.0\n",
              "D_true[36]  0.23  0.38   -0.53     0.89  ...  1014.95   2778.60   1403.94    1.0\n",
              "D_true[37] -1.04  0.22   -1.47    -0.66  ...  2229.71   2334.51   1253.80    1.0\n",
              "D_true[38] -0.93  0.55   -1.90     0.16  ...  1746.13   2022.62   1373.79    1.0\n",
              "D_true[39] -0.69  0.33   -1.33    -0.12  ...  2088.89   2642.22   1424.97    1.0\n",
              "D_true[40]  0.22  0.55   -0.82     1.26  ...  1097.64   2441.38   1264.12    1.0\n",
              "D_true[41]  0.74  0.35    0.07     1.38  ...  1539.47   2029.83   1320.51    1.0\n",
              "D_true[42]  0.20  0.19   -0.14     0.55  ...  1335.85   2121.79   1142.50    1.0\n",
              "D_true[43]  0.81  0.43    0.02     1.63  ...  1701.93   1940.42   1334.78    1.0\n",
              "D_true[44] -0.42  0.53   -1.38     0.56  ...  1270.78   1837.17   1335.67    1.0\n",
              "D_true[45] -0.40  0.26   -0.87     0.09  ...  1633.17   2246.16   1338.27    1.0\n",
              "D_true[46]  0.14  0.31   -0.49     0.68  ...   927.29   2316.11   1291.47    1.0\n",
              "D_true[47]  0.55  0.45   -0.31     1.38  ...  2004.16   3248.31   1628.67    1.0\n",
              "D_true[48] -0.64  0.28   -1.16    -0.12  ...  2013.38   2197.93   1243.23    1.0\n",
              "D_true[49]  0.86  0.60   -0.22     1.99  ...  1620.10   1827.01   1482.46    1.0\n",
              "sigma       0.59  0.11    0.41     0.81  ...   658.35    619.04    509.01    1.0\n",
              "\n",
              "[54 rows x 11 columns]"
            ]
          },
          "metadata": {
            "tags": []
          },
          "execution_count": 8
        }
      ]
    },
    {
      "cell_type": "code",
      "metadata": {
        "id": "BQxiocWSqijR"
      },
      "source": [
        "with m15_1:\n",
        "  x_range = np.linspace(M_.min()-0.15, M_.max() + 0.15, 50)\n",
        "  pm.set_data({\"A\":x_range})\n",
        "  trace_posterior_15_1 = pm.fast_sample_posterior_predictive(trace_15_1, var_names=['D_true'])\n"
      ],
      "execution_count": null,
      "outputs": []
    },
    {
      "cell_type": "markdown",
      "metadata": {
        "id": "CQ6QO5CDR3kR"
      },
      "source": [
        "#Code15.4"
      ]
    },
    {
      "cell_type": "code",
      "metadata": {
        "id": "F31btBkkur6_",
        "colab": {
          "base_uri": "https://localhost:8080/",
          "height": 351
        },
        "outputId": "00eeeb7a-8d55-4e20-cc18-f6d6f03f70d8"
      },
      "source": [
        "_, ax = plt.subplots(1, 2, figsize=(12,4))\n",
        "D_diff = trace_15_1['D_true'].mean(axis=0) - D_obs\n",
        "ax[0].scatter(D_sd, D_diff,marker='o', edgecolors='k', facecolors='none')\n",
        "ax[0].hlines(0, 0, 1.5, linestyles='dashed', lw=1)\n",
        "ax[0].set_xlabel(\"D_sd\")\n",
        "ax[0].set_ylabel(\"D_est - D_obs\")\n",
        "\n",
        "ax[1].scatter(A_, D_obs)\n",
        "ax[1].scatter(A_, trace_15_1['D_true'].mean(0), facecolor='none', edgecolor='k')\n",
        "pm.plot_hdi(x_range, trace_posterior_15_1['D_true'], ax=ax[1])"
      ],
      "execution_count": null,
      "outputs": [
        {
          "output_type": "stream",
          "text": [
            "/usr/local/lib/python3.6/dist-packages/arviz/stats/stats.py:496: FutureWarning: hdi currently interprets 2d data as (draw, shape) but this will change in a future release to (chain, draw) for coherence with other functions\n",
            "  FutureWarning,\n"
          ],
          "name": "stderr"
        },
        {
          "output_type": "execute_result",
          "data": {
            "text/plain": [
              "<matplotlib.axes._subplots.AxesSubplot at 0x7fa3ff4e7c18>"
            ]
          },
          "metadata": {
            "tags": []
          },
          "execution_count": 10
        },
        {
          "output_type": "display_data",
          "data": {
            "image/png": "[encoded data removed]",
            "text/plain": [
              "<Figure size 864x288 with 2 Axes>"
            ]
          },
          "metadata": {
            "tags": [],
            "needs_background": "light"
          }
        }
      ]
    },
    {
      "cell_type": "markdown",
      "metadata": {
        "id": "O8spQ6e6SMH0"
      },
      "source": [
        "# Code 15.5"
      ]
    },
    {
      "cell_type": "code",
      "metadata": {
        "id": "kmIslCzSiNRL",
        "colab": {
          "base_uri": "https://localhost:8080/",
          "height": 213
        },
        "outputId": "71c9693e-3b04-448c-f50e-3f4ba3b0dfea"
      },
      "source": [
        "D_obs = standardize(d['Divorce'])\n",
        "D_sd = d['Divorce SE']/np.std(d['Divorce'])\n",
        "M_obs = standardize(d['Marriage'])\n",
        "M_sd = d['Marriage SE'] / np.std(d['Marriage'])\n",
        "A = standardize(d['MedianAgeMarriage'])\n",
        "N = len(d)\n",
        "\n",
        "with pm.Model() as m15_2:\n",
        "  a = pm.Normal(\"a\", 0, 0.2)\n",
        "  bA = pm.Normal(\"bA\", 0, 0.5)\n",
        "  bM = pm.Normal(\"bM\", 0, 0.5)\n",
        "  sigma = pm.Exponential(\"sigma\", 1)\n",
        "  M_true = pm.Normal(\"M_true\",0, 1, shape=N)\n",
        "  Mobs = pm.Normal(\"M_obs\", M_true, M_sd, observed=M_obs)\n",
        "  mu = a + bA * A + bM * M_true\n",
        "  D_true = pm.Normal(\"D_true\", mu, sigma, shape=N)\n",
        "  obs = pm.Normal(\"D_obs\", D_true, D_sd, observed=D_obs)\n",
        "\n",
        "  trace_15_2 = pm.sample(2000, tune=2000, target_accept =0.95)\n"
      ],
      "execution_count": null,
      "outputs": [
        {
          "output_type": "stream",
          "text": [
            "/usr/local/lib/python3.6/dist-packages/pymc3/sampling.py:468: FutureWarning: In an upcoming release, pm.sample will return an `arviz.InferenceData` object instead of a `MultiTrace` by default. You can pass return_inferencedata=True or return_inferencedata=False to be safe and silence this warning.\n",
            "  FutureWarning,\n",
            "Auto-assigning NUTS sampler...\n",
            "Initializing NUTS using jitter+adapt_diag...\n",
            "Sequential sampling (2 chains in 1 job)\n",
            "NUTS: [D_true, M_true, sigma, bM, bA, a]\n"
          ],
          "name": "stderr"
        },
        {
          "output_type": "display_data",
          "data": {
            "text/html": [
              "\n",
              "    <div>\n",
              "        <style>\n",
              "            /* Turns off some styling */\n",
              "            progress {\n",
              "                /* gets rid of default border in Firefox and Opera. */\n",
              "                border: none;\n",
              "                /* Needs to be in here for Safari polyfill so background images work as expected. */\n",
              "                background-size: auto;\n",
              "            }\n",
              "            .progress-bar-interrupted, .progress-bar-interrupted::-webkit-progress-bar {\n",
              "                background: #F44336;\n",
              "            }\n",
              "        </style>\n",
              "      <progress value='4000' class='' max='4000' style='width:300px; height:20px; vertical-align: middle;'></progress>\n",
              "      100.00% [4000/4000 00:13<00:00 Sampling chain 0, 0 divergences]\n",
              "    </div>\n",
              "    "
            ],
            "text/plain": [
              "<IPython.core.display.HTML object>"
            ]
          },
          "metadata": {
            "tags": []
          }
        },
        {
          "output_type": "display_data",
          "data": {
            "text/html": [
              "\n",
              "    <div>\n",
              "        <style>\n",
              "            /* Turns off some styling */\n",
              "            progress {\n",
              "                /* gets rid of default border in Firefox and Opera. */\n",
              "                border: none;\n",
              "                /* Needs to be in here for Safari polyfill so background images work as expected. */\n",
              "                background-size: auto;\n",
              "            }\n",
              "            .progress-bar-interrupted, .progress-bar-interrupted::-webkit-progress-bar {\n",
              "                background: #F44336;\n",
              "            }\n",
              "        </style>\n",
              "      <progress value='4000' class='' max='4000' style='width:300px; height:20px; vertical-align: middle;'></progress>\n",
              "      100.00% [4000/4000 00:14<00:00 Sampling chain 1, 0 divergences]\n",
              "    </div>\n",
              "    "
            ],
            "text/plain": [
              "<IPython.core.display.HTML object>"
            ]
          },
          "metadata": {
            "tags": []
          }
        },
        {
          "output_type": "stream",
          "text": [
            "Sampling 2 chains for 2_000 tune and 2_000 draw iterations (4_000 + 4_000 draws total) took 28 seconds.\n",
            "The number of effective samples is smaller than 25% for some parameters.\n"
          ],
          "name": "stderr"
        }
      ]
    },
    {
      "cell_type": "code",
      "metadata": {
        "id": "l4lv7hu2nRiS",
        "colab": {
          "base_uri": "https://localhost:8080/",
          "height": 265
        },
        "outputId": "4cc788e7-fecd-42a8-a613-6dfeb6c074ba"
      },
      "source": [
        "D_true = trace_15_2['D_true'].mean(0)\n",
        "M_true = trace_15_2['M_true'].mean(0)\n",
        "_, ax = plt.subplots()\n",
        "ax.scatter(M_obs, D_obs)\n",
        "ax.scatter(M_true, D_true, edgecolors='k', facecolors='none')\n",
        "for m_obs, d_obs, m_true, d_true in zip(M_obs, D_obs,M_true, D_true):\n",
        "  plt.plot([m_obs, m_true],[d_obs, d_true], color='k', lw=1)\n"
      ],
      "execution_count": null,
      "outputs": [
        {
          "output_type": "display_data",
          "data": {
            "image/png": "[encoded data removed]",
            "text/plain": [
              "<Figure size 432x288 with 1 Axes>"
            ]
          },
          "metadata": {
            "tags": [],
            "needs_background": "light"
          }
        }
      ]
    },
    {
      "cell_type": "markdown",
      "metadata": {
        "id": "CYeIbqriDbS8"
      },
      "source": [
        "# Code 15.8"
      ]
    },
    {
      "cell_type": "code",
      "metadata": {
        "id": "zkdgRqWhpE6K"
      },
      "source": [
        "N = 100\n",
        "S = np.random.randn(N)\n",
        "H = np.random.binomial(10, sc.special.expit(S),N)\n"
      ],
      "execution_count": null,
      "outputs": []
    },
    {
      "cell_type": "markdown",
      "metadata": {
        "id": "Yt-2QtKMJDlM"
      },
      "source": [
        "# Code 15.9"
      ]
    },
    {
      "cell_type": "code",
      "metadata": {
        "id": "aGvgfTlxJFvv"
      },
      "source": [
        "# Dog eat homework of random student\n",
        "D = np.random.binomial(1, 0.5, 100)\n",
        "Hm = H.astype(float)\n",
        "Hm[D == 1] = np.nan\n"
      ],
      "execution_count": null,
      "outputs": []
    },
    {
      "cell_type": "markdown",
      "metadata": {
        "id": "yxX7XbY5KI6S"
      },
      "source": [
        "# Code 15.10"
      ]
    },
    {
      "cell_type": "code",
      "metadata": {
        "id": "6O59KRTjKScC",
        "colab": {
          "base_uri": "https://localhost:8080/"
        },
        "outputId": "5bcc9725-68d4-45f9-db64-22001cf5d2a4"
      },
      "source": [
        "# Dog eat homework of studius student\n",
        "D = np.where(S > 0, 1, 0)\n",
        "Hm = np.where(D == 1, np.nan, H)\n",
        "Hm"
      ],
      "execution_count": null,
      "outputs": [
        {
          "output_type": "execute_result",
          "data": {
            "text/plain": [
              "array([nan,  2., nan, nan,  1.,  2.,  3.,  3., nan,  5., nan,  1.,  2.,\n",
              "       nan, nan,  4.,  4.,  4.,  3.,  4.,  3.,  3., nan,  3.,  5.,  7.,\n",
              "        6.,  1., nan, nan,  3.,  3., nan, nan, nan,  2.,  1., nan, nan,\n",
              "       nan,  6., nan, nan,  5., nan, nan,  3., nan, nan,  3., nan, nan,\n",
              "        4.,  3.,  4.,  1., nan,  1.,  2., nan, nan, nan,  4.,  4., nan,\n",
              "        2.,  6., nan,  1., nan, nan, nan, nan,  7., nan,  3., nan, nan,\n",
              "        2., nan, nan, nan,  3., nan,  4.,  4.,  1.,  5., nan,  4., nan,\n",
              "       nan,  4.,  5.,  6.,  3.,  4., nan, nan, nan])"
            ]
          },
          "metadata": {
            "tags": []
          },
          "execution_count": 7
        }
      ]
    },
    {
      "cell_type": "markdown",
      "metadata": {
        "id": "RWazcvEfLivr"
      },
      "source": [
        "# Code 15.11"
      ]
    },
    {
      "cell_type": "code",
      "metadata": {
        "id": "Tc8bMDHnPAir"
      },
      "source": [
        "np.random.seed(501)\n",
        "N = 1000\n",
        "X = np.random.randn(N)\n",
        "S_ = np.random.randn(N)\n",
        "H_ = np.random.binomial(10, sc.special.expit(2 + S_ - 2 * X), N)\n",
        "D = np.where(X > 1, 1, 0)\n",
        "Hm = H_.astype(float)\n",
        "Hm[D == 1] = np.nan\n"
      ],
      "execution_count": null,
      "outputs": []
    },
    {
      "cell_type": "markdown",
      "metadata": {
        "id": "61dU0ArCL8Cn"
      },
      "source": [
        "# Code 15.12"
      ]
    },
    {
      "cell_type": "code",
      "metadata": {
        "id": "3iHSYNahhVHn",
        "colab": {
          "base_uri": "https://localhost:8080/",
          "height": 196
        },
        "outputId": "842c384f-f3a9-4a39-ff99-ac1a790278e1"
      },
      "source": [
        "with pm.Model() as m15_3:\n",
        "  H = pm.Data(\"H\", H_)\n",
        "  S = pm.Data(\"S\", S_)\n",
        "  a = pm.Normal(\"a\", 0, 1)\n",
        "  bS = pm.Normal(\"bS\", 0, 0.5)\n",
        "  p = pm.math.invlogit(a + bS * S)\n",
        "  obs = pm.Binomial(\"obs\", 10,p, observed=H)\n",
        "\n",
        "  trace_15_3 = pm.sample()"
      ],
      "execution_count": null,
      "outputs": [
        {
          "output_type": "stream",
          "text": [
            "/usr/local/lib/python3.6/dist-packages/pymc3/sampling.py:468: FutureWarning: In an upcoming release, pm.sample will return an `arviz.InferenceData` object instead of a `MultiTrace` by default. You can pass return_inferencedata=True or return_inferencedata=False to be safe and silence this warning.\n",
            "  FutureWarning,\n",
            "Auto-assigning NUTS sampler...\n",
            "Initializing NUTS using jitter+adapt_diag...\n",
            "Sequential sampling (2 chains in 1 job)\n",
            "NUTS: [bS, a]\n"
          ],
          "name": "stderr"
        },
        {
          "output_type": "display_data",
          "data": {
            "text/html": [
              "\n",
              "    <div>\n",
              "        <style>\n",
              "            /* Turns off some styling */\n",
              "            progress {\n",
              "                /* gets rid of default border in Firefox and Opera. */\n",
              "                border: none;\n",
              "                /* Needs to be in here for Safari polyfill so background images work as expected. */\n",
              "                background-size: auto;\n",
              "            }\n",
              "            .progress-bar-interrupted, .progress-bar-interrupted::-webkit-progress-bar {\n",
              "                background: #F44336;\n",
              "            }\n",
              "        </style>\n",
              "      <progress value='2000' class='' max='2000' style='width:300px; height:20px; vertical-align: middle;'></progress>\n",
              "      100.00% [2000/2000 00:05<00:00 Sampling chain 0, 0 divergences]\n",
              "    </div>\n",
              "    "
            ],
            "text/plain": [
              "<IPython.core.display.HTML object>"
            ]
          },
          "metadata": {
            "tags": []
          }
        },
        {
          "output_type": "display_data",
          "data": {
            "text/html": [
              "\n",
              "    <div>\n",
              "        <style>\n",
              "            /* Turns off some styling */\n",
              "            progress {\n",
              "                /* gets rid of default border in Firefox and Opera. */\n",
              "                border: none;\n",
              "                /* Needs to be in here for Safari polyfill so background images work as expected. */\n",
              "                background-size: auto;\n",
              "            }\n",
              "            .progress-bar-interrupted, .progress-bar-interrupted::-webkit-progress-bar {\n",
              "                background: #F44336;\n",
              "            }\n",
              "        </style>\n",
              "      <progress value='2000' class='' max='2000' style='width:300px; height:20px; vertical-align: middle;'></progress>\n",
              "      100.00% [2000/2000 00:04<00:00 Sampling chain 1, 0 divergences]\n",
              "    </div>\n",
              "    "
            ],
            "text/plain": [
              "<IPython.core.display.HTML object>"
            ]
          },
          "metadata": {
            "tags": []
          }
        },
        {
          "output_type": "stream",
          "text": [
            "Sampling 2 chains for 1_000 tune and 1_000 draw iterations (2_000 + 2_000 draws total) took 9 seconds.\n"
          ],
          "name": "stderr"
        }
      ]
    },
    {
      "cell_type": "code",
      "metadata": {
        "id": "xjyAJv-ElHSn",
        "colab": {
          "base_uri": "https://localhost:8080/",
          "height": 165
        },
        "outputId": "05eaf4a3-6f9d-495d-bbe6-5780e7b996fe"
      },
      "source": [
        "pm.summary(trace_15_3)"
      ],
      "execution_count": null,
      "outputs": [
        {
          "output_type": "stream",
          "text": [
            "/usr/local/lib/python3.6/dist-packages/arviz/data/io_pymc3.py:92: FutureWarning: Using `from_pymc3` without the model will be deprecated in a future release. Not using the model will return less accurate and less useful results. Make sure you use the model argument or call from_pymc3 within a model context.\n",
            "  FutureWarning,\n"
          ],
          "name": "stderr"
        },
        {
          "output_type": "execute_result",
          "data": {
            "text/html": [
              "<div>\n",
              "<style scoped>\n",
              "    .dataframe tbody tr th:only-of-type {\n",
              "        vertical-align: middle;\n",
              "    }\n",
              "\n",
              "    .dataframe tbody tr th {\n",
              "        vertical-align: top;\n",
              "    }\n",
              "\n",
              "    .dataframe thead th {\n",
              "        text-align: right;\n",
              "    }\n",
              "</style>\n",
              "<table border=\"1\" class=\"dataframe\">\n",
              "  <thead>\n",
              "    <tr style=\"text-align: right;\">\n",
              "      <th></th>\n",
              "      <th>mean</th>\n",
              "      <th>sd</th>\n",
              "      <th>hdi_3%</th>\n",
              "      <th>hdi_97%</th>\n",
              "      <th>mcse_mean</th>\n",
              "      <th>mcse_sd</th>\n",
              "      <th>ess_mean</th>\n",
              "      <th>ess_sd</th>\n",
              "      <th>ess_bulk</th>\n",
              "      <th>ess_tail</th>\n",
              "      <th>r_hat</th>\n",
              "    </tr>\n",
              "  </thead>\n",
              "  <tbody>\n",
              "    <tr>\n",
              "      <th>a</th>\n",
              "      <td>1.268</td>\n",
              "      <td>0.027</td>\n",
              "      <td>1.214</td>\n",
              "      <td>1.315</td>\n",
              "      <td>0.001</td>\n",
              "      <td>0.000</td>\n",
              "      <td>1514.0</td>\n",
              "      <td>1514.0</td>\n",
              "      <td>1513.0</td>\n",
              "      <td>1467.0</td>\n",
              "      <td>1.0</td>\n",
              "    </tr>\n",
              "    <tr>\n",
              "      <th>bS</th>\n",
              "      <td>0.708</td>\n",
              "      <td>0.028</td>\n",
              "      <td>0.658</td>\n",
              "      <td>0.760</td>\n",
              "      <td>0.001</td>\n",
              "      <td>0.001</td>\n",
              "      <td>1530.0</td>\n",
              "      <td>1530.0</td>\n",
              "      <td>1533.0</td>\n",
              "      <td>1386.0</td>\n",
              "      <td>1.0</td>\n",
              "    </tr>\n",
              "  </tbody>\n",
              "</table>\n",
              "</div>"
            ],
            "text/plain": [
              "     mean     sd  hdi_3%  hdi_97%  ...  ess_sd  ess_bulk  ess_tail  r_hat\n",
              "a   1.268  0.027   1.214    1.315  ...  1514.0    1513.0    1467.0    1.0\n",
              "bS  0.708  0.028   0.658    0.760  ...  1530.0    1533.0    1386.0    1.0\n",
              "\n",
              "[2 rows x 11 columns]"
            ]
          },
          "metadata": {
            "tags": []
          },
          "execution_count": 10
        }
      ]
    },
    {
      "cell_type": "markdown",
      "metadata": {
        "id": "Iqd4QoYIMu31"
      },
      "source": [
        "# Code 15.13"
      ]
    },
    {
      "cell_type": "code",
      "metadata": {
        "id": "g85FkQv7mNix",
        "colab": {
          "base_uri": "https://localhost:8080/",
          "height": 196
        },
        "outputId": "22513467-1eab-45cd-8de9-2e3073d75d0a"
      },
      "source": [
        "with pm.Model() as m15_4:\n",
        "  H = pm.Data(\"H\", H_[D == 0])\n",
        "  S = pm.Data(\"S\", S_[D == 0])\n",
        "  a = pm.Normal(\"a\", 0, 1)\n",
        "  bS = pm.Normal(\"bS\", 0, 0.5)\n",
        "  p = pm.math.invlogit(a + bS * S)\n",
        "  obs = pm.Binomial(\"obs\", 10,p, observed=H)\n",
        "\n",
        "  trace_15_4 = pm.sample()"
      ],
      "execution_count": null,
      "outputs": [
        {
          "output_type": "stream",
          "text": [
            "/usr/local/lib/python3.6/dist-packages/pymc3/sampling.py:468: FutureWarning: In an upcoming release, pm.sample will return an `arviz.InferenceData` object instead of a `MultiTrace` by default. You can pass return_inferencedata=True or return_inferencedata=False to be safe and silence this warning.\n",
            "  FutureWarning,\n",
            "Auto-assigning NUTS sampler...\n",
            "Initializing NUTS using jitter+adapt_diag...\n",
            "Sequential sampling (2 chains in 1 job)\n",
            "NUTS: [bS, a]\n"
          ],
          "name": "stderr"
        },
        {
          "output_type": "display_data",
          "data": {
            "text/html": [
              "\n",
              "    <div>\n",
              "        <style>\n",
              "            /* Turns off some styling */\n",
              "            progress {\n",
              "                /* gets rid of default border in Firefox and Opera. */\n",
              "                border: none;\n",
              "                /* Needs to be in here for Safari polyfill so background images work as expected. */\n",
              "                background-size: auto;\n",
              "            }\n",
              "            .progress-bar-interrupted, .progress-bar-interrupted::-webkit-progress-bar {\n",
              "                background: #F44336;\n",
              "            }\n",
              "        </style>\n",
              "      <progress value='2000' class='' max='2000' style='width:300px; height:20px; vertical-align: middle;'></progress>\n",
              "      100.00% [2000/2000 00:04<00:00 Sampling chain 0, 0 divergences]\n",
              "    </div>\n",
              "    "
            ],
            "text/plain": [
              "<IPython.core.display.HTML object>"
            ]
          },
          "metadata": {
            "tags": []
          }
        },
        {
          "output_type": "display_data",
          "data": {
            "text/html": [
              "\n",
              "    <div>\n",
              "        <style>\n",
              "            /* Turns off some styling */\n",
              "            progress {\n",
              "                /* gets rid of default border in Firefox and Opera. */\n",
              "                border: none;\n",
              "                /* Needs to be in here for Safari polyfill so background images work as expected. */\n",
              "                background-size: auto;\n",
              "            }\n",
              "            .progress-bar-interrupted, .progress-bar-interrupted::-webkit-progress-bar {\n",
              "                background: #F44336;\n",
              "            }\n",
              "        </style>\n",
              "      <progress value='2000' class='' max='2000' style='width:300px; height:20px; vertical-align: middle;'></progress>\n",
              "      100.00% [2000/2000 00:04<00:00 Sampling chain 1, 0 divergences]\n",
              "    </div>\n",
              "    "
            ],
            "text/plain": [
              "<IPython.core.display.HTML object>"
            ]
          },
          "metadata": {
            "tags": []
          }
        },
        {
          "output_type": "stream",
          "text": [
            "Sampling 2 chains for 1_000 tune and 1_000 draw iterations (2_000 + 2_000 draws total) took 8 seconds.\n"
          ],
          "name": "stderr"
        }
      ]
    },
    {
      "cell_type": "code",
      "metadata": {
        "id": "HGjdpRiUnGdH",
        "colab": {
          "base_uri": "https://localhost:8080/",
          "height": 165
        },
        "outputId": "b37c82e4-4cbd-4585-f661-3f660afdd627"
      },
      "source": [
        "pm.summary(trace_15_4)"
      ],
      "execution_count": null,
      "outputs": [
        {
          "output_type": "stream",
          "text": [
            "/usr/local/lib/python3.6/dist-packages/arviz/data/io_pymc3.py:92: FutureWarning: Using `from_pymc3` without the model will be deprecated in a future release. Not using the model will return less accurate and less useful results. Make sure you use the model argument or call from_pymc3 within a model context.\n",
            "  FutureWarning,\n"
          ],
          "name": "stderr"
        },
        {
          "output_type": "execute_result",
          "data": {
            "text/html": [
              "<div>\n",
              "<style scoped>\n",
              "    .dataframe tbody tr th:only-of-type {\n",
              "        vertical-align: middle;\n",
              "    }\n",
              "\n",
              "    .dataframe tbody tr th {\n",
              "        vertical-align: top;\n",
              "    }\n",
              "\n",
              "    .dataframe thead th {\n",
              "        text-align: right;\n",
              "    }\n",
              "</style>\n",
              "<table border=\"1\" class=\"dataframe\">\n",
              "  <thead>\n",
              "    <tr style=\"text-align: right;\">\n",
              "      <th></th>\n",
              "      <th>mean</th>\n",
              "      <th>sd</th>\n",
              "      <th>hdi_3%</th>\n",
              "      <th>hdi_97%</th>\n",
              "      <th>mcse_mean</th>\n",
              "      <th>mcse_sd</th>\n",
              "      <th>ess_mean</th>\n",
              "      <th>ess_sd</th>\n",
              "      <th>ess_bulk</th>\n",
              "      <th>ess_tail</th>\n",
              "      <th>r_hat</th>\n",
              "    </tr>\n",
              "  </thead>\n",
              "  <tbody>\n",
              "    <tr>\n",
              "      <th>a</th>\n",
              "      <td>1.878</td>\n",
              "      <td>0.036</td>\n",
              "      <td>1.805</td>\n",
              "      <td>1.942</td>\n",
              "      <td>0.001</td>\n",
              "      <td>0.001</td>\n",
              "      <td>1200.0</td>\n",
              "      <td>1200.0</td>\n",
              "      <td>1201.0</td>\n",
              "      <td>1251.0</td>\n",
              "      <td>1.0</td>\n",
              "    </tr>\n",
              "    <tr>\n",
              "      <th>bS</th>\n",
              "      <td>0.860</td>\n",
              "      <td>0.035</td>\n",
              "      <td>0.794</td>\n",
              "      <td>0.928</td>\n",
              "      <td>0.001</td>\n",
              "      <td>0.001</td>\n",
              "      <td>1142.0</td>\n",
              "      <td>1142.0</td>\n",
              "      <td>1150.0</td>\n",
              "      <td>887.0</td>\n",
              "      <td>1.0</td>\n",
              "    </tr>\n",
              "  </tbody>\n",
              "</table>\n",
              "</div>"
            ],
            "text/plain": [
              "     mean     sd  hdi_3%  hdi_97%  ...  ess_sd  ess_bulk  ess_tail  r_hat\n",
              "a   1.878  0.036   1.805    1.942  ...  1200.0    1201.0    1251.0    1.0\n",
              "bS  0.860  0.035   0.794    0.928  ...  1142.0    1150.0     887.0    1.0\n",
              "\n",
              "[2 rows x 11 columns]"
            ]
          },
          "metadata": {
            "tags": []
          },
          "execution_count": 12
        }
      ]
    },
    {
      "cell_type": "markdown",
      "metadata": {
        "id": "RUn3qQx8Ndol"
      },
      "source": [
        "# Code 15.14"
      ]
    },
    {
      "cell_type": "code",
      "metadata": {
        "id": "3tjSUX35Qc0C"
      },
      "source": [
        "N = 100\n",
        "S = np.random.normal(size=100)\n",
        "H = np.random.binomial(10, sc.special.expit(S),100)\n",
        "D = np.where(H < 5, 1, 0)\n",
        "Hm = H.astype(float)\n",
        "Hm[D == 1] = np.nan"
      ],
      "execution_count": null,
      "outputs": []
    },
    {
      "cell_type": "code",
      "metadata": {
        "id": "d9i3IvR5ugUu"
      },
      "source": [
        "def standardize(x):\n",
        "  return (x - x.mean())/x.std()"
      ],
      "execution_count": null,
      "outputs": []
    },
    {
      "cell_type": "markdown",
      "metadata": {
        "id": "eC8CS3czba9n"
      },
      "source": [
        "# Code 15.15"
      ]
    },
    {
      "cell_type": "code",
      "metadata": {
        "id": "kHE24S4TnXlu",
        "colab": {
          "base_uri": "https://localhost:8080/",
          "height": 221
        },
        "outputId": "7cbdcf73-8866-4979-a081-5909c5b81e0a"
      },
      "source": [
        "milk = \"https://raw.githubusercontent.com/pymc-devs/resources/master/Rethinking_2/Data/milk.csv\"\n",
        "d = pd.read_csv(milk,delimiter=\";\")\n",
        "d['neocortex.prop'] = d['neocortex.perc'] / 100\n",
        "d['logmass'] = np.log(d['mass'])\n",
        "d.head()"
      ],
      "execution_count": null,
      "outputs": [
        {
          "output_type": "execute_result",
          "data": {
            "text/html": [
              "<div>\n",
              "<style scoped>\n",
              "    .dataframe tbody tr th:only-of-type {\n",
              "        vertical-align: middle;\n",
              "    }\n",
              "\n",
              "    .dataframe tbody tr th {\n",
              "        vertical-align: top;\n",
              "    }\n",
              "\n",
              "    .dataframe thead th {\n",
              "        text-align: right;\n",
              "    }\n",
              "</style>\n",
              "<table border=\"1\" class=\"dataframe\">\n",
              "  <thead>\n",
              "    <tr style=\"text-align: right;\">\n",
              "      <th></th>\n",
              "      <th>clade</th>\n",
              "      <th>species</th>\n",
              "      <th>kcal.per.g</th>\n",
              "      <th>perc.fat</th>\n",
              "      <th>perc.protein</th>\n",
              "      <th>perc.lactose</th>\n",
              "      <th>mass</th>\n",
              "      <th>neocortex.perc</th>\n",
              "      <th>neocortex.prop</th>\n",
              "      <th>logmass</th>\n",
              "    </tr>\n",
              "  </thead>\n",
              "  <tbody>\n",
              "    <tr>\n",
              "      <th>0</th>\n",
              "      <td>Strepsirrhine</td>\n",
              "      <td>Eulemur fulvus</td>\n",
              "      <td>0.49</td>\n",
              "      <td>16.60</td>\n",
              "      <td>15.42</td>\n",
              "      <td>67.98</td>\n",
              "      <td>1.95</td>\n",
              "      <td>55.16</td>\n",
              "      <td>0.5516</td>\n",
              "      <td>0.667829</td>\n",
              "    </tr>\n",
              "    <tr>\n",
              "      <th>1</th>\n",
              "      <td>Strepsirrhine</td>\n",
              "      <td>E macaco</td>\n",
              "      <td>0.51</td>\n",
              "      <td>19.27</td>\n",
              "      <td>16.91</td>\n",
              "      <td>63.82</td>\n",
              "      <td>2.09</td>\n",
              "      <td>NaN</td>\n",
              "      <td>NaN</td>\n",
              "      <td>0.737164</td>\n",
              "    </tr>\n",
              "    <tr>\n",
              "      <th>2</th>\n",
              "      <td>Strepsirrhine</td>\n",
              "      <td>E mongoz</td>\n",
              "      <td>0.46</td>\n",
              "      <td>14.11</td>\n",
              "      <td>16.85</td>\n",
              "      <td>69.04</td>\n",
              "      <td>2.51</td>\n",
              "      <td>NaN</td>\n",
              "      <td>NaN</td>\n",
              "      <td>0.920283</td>\n",
              "    </tr>\n",
              "    <tr>\n",
              "      <th>3</th>\n",
              "      <td>Strepsirrhine</td>\n",
              "      <td>E rubriventer</td>\n",
              "      <td>0.48</td>\n",
              "      <td>14.91</td>\n",
              "      <td>13.18</td>\n",
              "      <td>71.91</td>\n",
              "      <td>1.62</td>\n",
              "      <td>NaN</td>\n",
              "      <td>NaN</td>\n",
              "      <td>0.482426</td>\n",
              "    </tr>\n",
              "    <tr>\n",
              "      <th>4</th>\n",
              "      <td>Strepsirrhine</td>\n",
              "      <td>Lemur catta</td>\n",
              "      <td>0.60</td>\n",
              "      <td>27.28</td>\n",
              "      <td>19.50</td>\n",
              "      <td>53.22</td>\n",
              "      <td>2.19</td>\n",
              "      <td>NaN</td>\n",
              "      <td>NaN</td>\n",
              "      <td>0.783902</td>\n",
              "    </tr>\n",
              "  </tbody>\n",
              "</table>\n",
              "</div>"
            ],
            "text/plain": [
              "           clade         species  ...  neocortex.prop   logmass\n",
              "0  Strepsirrhine  Eulemur fulvus  ...          0.5516  0.667829\n",
              "1  Strepsirrhine        E macaco  ...             NaN  0.737164\n",
              "2  Strepsirrhine        E mongoz  ...             NaN  0.920283\n",
              "3  Strepsirrhine   E rubriventer  ...             NaN  0.482426\n",
              "4  Strepsirrhine     Lemur catta  ...             NaN  0.783902\n",
              "\n",
              "[5 rows x 10 columns]"
            ]
          },
          "metadata": {
            "tags": []
          },
          "execution_count": 3
        }
      ]
    },
    {
      "cell_type": "markdown",
      "metadata": {
        "id": "DsLvxPQBbcx-"
      },
      "source": [
        "# Code 15.16"
      ]
    },
    {
      "cell_type": "code",
      "metadata": {
        "id": "_OeWs-zAthz4",
        "colab": {
          "base_uri": "https://localhost:8080/",
          "height": 230
        },
        "outputId": "c7094c32-4391-449b-f4f0-19a37f2f88fc"
      },
      "source": [
        "K_ = standardize(d['kcal.per.g'])\n",
        "B_ = standardize(d['neocortex.prop'])\n",
        "M_ = standardize(d['logmass'])\n",
        "\n",
        "with pm.Model() as m15_5:\n",
        "  sigma = pm.Exponential(\"sigma\",1)\n",
        "  sigma_B = pm.Exponential(\"sigma_B\",1)\n",
        "  a = pm.Normal(\"a\", 0, 0.5)\n",
        "  nu = pm.Normal(\"nu\", 0, 0.5)\n",
        "  bB = pm.Normal(\"bB\", 0, 0.5)\n",
        "  bM = pm.Normal(\"bM\", 0, 0.5)\n",
        "  B = pm.Normal(\"B\", nu, sigma_B, observed=B_)\n",
        "  mu = a + bB * B + bM * M_\n",
        "  K = pm.Normal(\"K\", mu, sigma, observed=K_)\n",
        "\n",
        "  trace_15_5 = pm.sample(target_accept=0.9)\n"
      ],
      "execution_count": null,
      "outputs": [
        {
          "output_type": "stream",
          "text": [
            "/usr/local/lib/python3.7/dist-packages/pymc3/model.py:1755: ImputationWarning: Data in B contains missing values and will be automatically imputed from the sampling distribution.\n",
            "  warnings.warn(impute_message, ImputationWarning)\n",
            "/usr/local/lib/python3.7/dist-packages/ipykernel_launcher.py:16: FutureWarning: In v4.0, pm.sample will return an `arviz.InferenceData` object instead of a `MultiTrace` by default. You can pass return_inferencedata=True or return_inferencedata=False to be safe and silence this warning.\n",
            "  app.launch_new_instance()\n",
            "Auto-assigning NUTS sampler...\n",
            "Initializing NUTS using jitter+adapt_diag...\n",
            "Sequential sampling (2 chains in 1 job)\n",
            "NUTS: [B_missing, bM, bB, nu, a, sigma_B, sigma]\n"
          ],
          "name": "stderr"
        },
        {
          "output_type": "display_data",
          "data": {
            "text/html": [
              "\n",
              "    <div>\n",
              "        <style>\n",
              "            /* Turns off some styling */\n",
              "            progress {\n",
              "                /* gets rid of default border in Firefox and Opera. */\n",
              "                border: none;\n",
              "                /* Needs to be in here for Safari polyfill so background images work as expected. */\n",
              "                background-size: auto;\n",
              "            }\n",
              "            .progress-bar-interrupted, .progress-bar-interrupted::-webkit-progress-bar {\n",
              "                background: #F44336;\n",
              "            }\n",
              "        </style>\n",
              "      <progress value='2000' class='' max='2000' style='width:300px; height:20px; vertical-align: middle;'></progress>\n",
              "      100.00% [2000/2000 00:04<00:00 Sampling chain 0, 0 divergences]\n",
              "    </div>\n",
              "    "
            ],
            "text/plain": [
              "<IPython.core.display.HTML object>"
            ]
          },
          "metadata": {
            "tags": []
          }
        },
        {
          "output_type": "display_data",
          "data": {
            "text/html": [
              "\n",
              "    <div>\n",
              "        <style>\n",
              "            /* Turns off some styling */\n",
              "            progress {\n",
              "                /* gets rid of default border in Firefox and Opera. */\n",
              "                border: none;\n",
              "                /* Needs to be in here for Safari polyfill so background images work as expected. */\n",
              "                background-size: auto;\n",
              "            }\n",
              "            .progress-bar-interrupted, .progress-bar-interrupted::-webkit-progress-bar {\n",
              "                background: #F44336;\n",
              "            }\n",
              "        </style>\n",
              "      <progress value='2000' class='' max='2000' style='width:300px; height:20px; vertical-align: middle;'></progress>\n",
              "      100.00% [2000/2000 00:04<00:00 Sampling chain 1, 0 divergences]\n",
              "    </div>\n",
              "    "
            ],
            "text/plain": [
              "<IPython.core.display.HTML object>"
            ]
          },
          "metadata": {
            "tags": []
          }
        },
        {
          "output_type": "stream",
          "text": [
            "Sampling 2 chains for 1_000 tune and 1_000 draw iterations (2_000 + 2_000 draws total) took 9 seconds.\n"
          ],
          "name": "stderr"
        }
      ]
    },
    {
      "cell_type": "code",
      "metadata": {
        "colab": {
          "base_uri": "https://localhost:8080/",
          "height": 516
        },
        "id": "VvEiBXzYB7xT",
        "outputId": "6806d1c9-0ca5-4f59-88b9-030426fcd541"
      },
      "source": [
        "pm.model_to_graphviz(m15_5)"
      ],
      "execution_count": null,
      "outputs": [
        {
          "output_type": "execute_result",
          "data": {
            "text/plain": [
              "<graphviz.dot.Digraph at 0x7f56a3d82990>"
            ],
            "image/svg+xml": "<?xml version=\"1.0\" encoding=\"UTF-8\" standalone=\"no\"?>\n<!DOCTYPE svg PUBLIC \"-//W3C//DTD SVG 1.1//EN\"\n \"http://www.w3.org/Graphics/SVG/1.1/DTD/svg11.dtd\">\n<!-- Generated by graphviz version 2.40.1 (20161225.0304)\n -->\n<!-- Title: %3 Pages: 1 -->\n<svg width=\"662pt\" height=\"371pt\"\n viewBox=\"0.00 0.00 661.85 370.86\" xmlns=\"http://www.w3.org/2000/svg\" xmlns:xlink=\"http://www.w3.org/1999/xlink\">\n<g id=\"graph0\" class=\"graph\" transform=\"scale(1 1) rotate(0) translate(4 366.86)\">\n<title>%3</title>\n<polygon fill=\"#ffffff\" stroke=\"transparent\" points=\"-4,4 -4,-366.86 657.8528,-366.86 657.8528,4 -4,4\"/>\n<g id=\"clust1\" class=\"cluster\">\n<title>cluster12</title>\n<path fill=\"none\" stroke=\"#000000\" d=\"M245.4264,-240.9066C245.4264,-240.9066 385.4264,-240.9066 385.4264,-240.9066 391.4264,-240.9066 397.4264,-246.9066 397.4264,-252.9066 397.4264,-252.9066 397.4264,-342.86 397.4264,-342.86 397.4264,-348.86 391.4264,-354.86 385.4264,-354.86 385.4264,-354.86 245.4264,-354.86 245.4264,-354.86 239.4264,-354.86 233.4264,-348.86 233.4264,-342.86 233.4264,-342.86 233.4264,-252.9066 233.4264,-252.9066 233.4264,-246.9066 239.4264,-240.9066 245.4264,-240.9066\"/>\n<text text-anchor=\"middle\" x=\"381.4264\" y=\"-248.7066\" font-family=\"Times,serif\" font-size=\"14.00\" fill=\"#000000\">12</text>\n</g>\n<g id=\"clust2\" class=\"cluster\">\n<title>cluster29</title>\n<path fill=\"none\" stroke=\"#000000\" d=\"M125.4264,-8C125.4264,-8 201.4264,-8 201.4264,-8 207.4264,-8 213.4264,-14 213.4264,-20 213.4264,-20 213.4264,-220.9066 213.4264,-220.9066 213.4264,-226.9066 207.4264,-232.9066 201.4264,-232.9066 201.4264,-232.9066 125.4264,-232.9066 125.4264,-232.9066 119.4264,-232.9066 113.4264,-226.9066 113.4264,-220.9066 113.4264,-220.9066 113.4264,-20 113.4264,-20 113.4264,-14 119.4264,-8 125.4264,-8\"/>\n<text text-anchor=\"middle\" x=\"197.4264\" y=\"-15.8\" font-family=\"Times,serif\" font-size=\"14.00\" fill=\"#000000\">29</text>\n</g>\n<!-- nu -->\n<g id=\"node1\" class=\"node\">\n<title>nu</title>\n<ellipse fill=\"none\" stroke=\"#000000\" cx=\"42.4264\" cy=\"-309.3833\" rx=\"42.3529\" ry=\"37.4533\"/>\n<text text-anchor=\"middle\" x=\"42.4264\" y=\"-320.6833\" font-family=\"Times,serif\" font-size=\"14.00\" fill=\"#000000\">nu</text>\n<text text-anchor=\"middle\" x=\"42.4264\" y=\"-305.6833\" font-family=\"Times,serif\" font-size=\"14.00\" fill=\"#000000\">~</text>\n<text text-anchor=\"middle\" x=\"42.4264\" y=\"-290.6833\" font-family=\"Times,serif\" font-size=\"14.00\" fill=\"#000000\">Normal</text>\n</g>\n<!-- B -->\n<g id=\"node9\" class=\"node\">\n<title>B</title>\n<ellipse fill=\"#d3d3d3\" stroke=\"#000000\" cx=\"163.4264\" cy=\"-187.43\" rx=\"42.3529\" ry=\"37.4533\"/>\n<text text-anchor=\"middle\" x=\"163.4264\" y=\"-198.73\" font-family=\"Times,serif\" font-size=\"14.00\" fill=\"#000000\">B</text>\n<text text-anchor=\"middle\" x=\"163.4264\" y=\"-183.73\" font-family=\"Times,serif\" font-size=\"14.00\" fill=\"#000000\">~</text>\n<text text-anchor=\"middle\" x=\"163.4264\" y=\"-168.73\" font-family=\"Times,serif\" font-size=\"14.00\" fill=\"#000000\">Normal</text>\n</g>\n<!-- nu&#45;&gt;B -->\n<g id=\"edge2\" class=\"edge\">\n<title>nu&#45;&gt;B</title>\n<path fill=\"none\" stroke=\"#000000\" d=\"M63.8042,-276.881C72.3449,-264.9749 82.6965,-251.7685 93.4264,-240.9066 101.907,-232.3217 111.81,-223.9485 121.4529,-216.4721\"/>\n<polygon fill=\"#000000\" stroke=\"#000000\" points=\"123.5918,-219.2427 129.4547,-210.4179 119.3683,-213.6605 123.5918,-219.2427\"/>\n</g>\n<!-- sigma_B -->\n<g id=\"node2\" class=\"node\">\n<title>sigma_B</title>\n<ellipse fill=\"none\" stroke=\"#000000\" cx=\"163.4264\" cy=\"-309.3833\" rx=\"60.623\" ry=\"37.4533\"/>\n<text text-anchor=\"middle\" x=\"163.4264\" y=\"-320.6833\" font-family=\"Times,serif\" font-size=\"14.00\" fill=\"#000000\">sigma_B</text>\n<text text-anchor=\"middle\" x=\"163.4264\" y=\"-305.6833\" font-family=\"Times,serif\" font-size=\"14.00\" fill=\"#000000\">~</text>\n<text text-anchor=\"middle\" x=\"163.4264\" y=\"-290.6833\" font-family=\"Times,serif\" font-size=\"14.00\" fill=\"#000000\">Exponential</text>\n</g>\n<!-- sigma_B&#45;&gt;B -->\n<g id=\"edge3\" class=\"edge\">\n<title>sigma_B&#45;&gt;B</title>\n<path fill=\"none\" stroke=\"#000000\" d=\"M163.4264,-271.7982C163.4264,-260.2068 163.4264,-247.2861 163.4264,-235.1091\"/>\n<polygon fill=\"#000000\" stroke=\"#000000\" points=\"166.9265,-235.1009 163.4264,-225.1009 159.9265,-235.101 166.9265,-235.1009\"/>\n</g>\n<!-- bB -->\n<g id=\"node3\" class=\"node\">\n<title>bB</title>\n<ellipse fill=\"none\" stroke=\"#000000\" cx=\"266.4264\" cy=\"-187.43\" rx=\"42.3529\" ry=\"37.4533\"/>\n<text text-anchor=\"middle\" x=\"266.4264\" y=\"-198.73\" font-family=\"Times,serif\" font-size=\"14.00\" fill=\"#000000\">bB</text>\n<text text-anchor=\"middle\" x=\"266.4264\" y=\"-183.73\" font-family=\"Times,serif\" font-size=\"14.00\" fill=\"#000000\">~</text>\n<text text-anchor=\"middle\" x=\"266.4264\" y=\"-168.73\" font-family=\"Times,serif\" font-size=\"14.00\" fill=\"#000000\">Normal</text>\n</g>\n<!-- K -->\n<g id=\"node8\" class=\"node\">\n<title>K</title>\n<ellipse fill=\"#d3d3d3\" stroke=\"#000000\" cx=\"163.4264\" cy=\"-76.4767\" rx=\"42.3529\" ry=\"37.4533\"/>\n<text text-anchor=\"middle\" x=\"163.4264\" y=\"-87.7767\" font-family=\"Times,serif\" font-size=\"14.00\" fill=\"#000000\">K</text>\n<text text-anchor=\"middle\" x=\"163.4264\" y=\"-72.7767\" font-family=\"Times,serif\" font-size=\"14.00\" fill=\"#000000\">~</text>\n<text text-anchor=\"middle\" x=\"163.4264\" y=\"-57.7767\" font-family=\"Times,serif\" font-size=\"14.00\" fill=\"#000000\">Normal</text>\n</g>\n<!-- bB&#45;&gt;K -->\n<g id=\"edge5\" class=\"edge\">\n<title>bB&#45;&gt;K</title>\n<path fill=\"none\" stroke=\"#000000\" d=\"M239.3644,-158.2783C226.5738,-144.5001 211.1651,-127.9015 197.5798,-113.2673\"/>\n<polygon fill=\"#000000\" stroke=\"#000000\" points=\"200.034,-110.7665 190.6653,-105.8189 194.9038,-115.529 200.034,-110.7665\"/>\n</g>\n<!-- sigma -->\n<g id=\"node4\" class=\"node\">\n<title>sigma</title>\n<ellipse fill=\"none\" stroke=\"#000000\" cx=\"387.4264\" cy=\"-187.43\" rx=\"60.623\" ry=\"37.4533\"/>\n<text text-anchor=\"middle\" x=\"387.4264\" y=\"-198.73\" font-family=\"Times,serif\" font-size=\"14.00\" fill=\"#000000\">sigma</text>\n<text text-anchor=\"middle\" x=\"387.4264\" y=\"-183.73\" font-family=\"Times,serif\" font-size=\"14.00\" fill=\"#000000\">~</text>\n<text text-anchor=\"middle\" x=\"387.4264\" y=\"-168.73\" font-family=\"Times,serif\" font-size=\"14.00\" fill=\"#000000\">Exponential</text>\n</g>\n<!-- sigma&#45;&gt;K -->\n<g id=\"edge4\" class=\"edge\">\n<title>sigma&#45;&gt;K</title>\n<path fill=\"none\" stroke=\"#000000\" d=\"M341.6483,-162.5297C333.6097,-158.2696 325.2986,-153.936 317.4264,-149.9533 281.8531,-131.9565 241.1225,-112.5756 210.4877,-98.2395\"/>\n<polygon fill=\"#000000\" stroke=\"#000000\" points=\"211.8631,-95.019 201.3214,-93.9594 208.9015,-101.3616 211.8631,-95.019\"/>\n</g>\n<!-- a -->\n<g id=\"node5\" class=\"node\">\n<title>a</title>\n<ellipse fill=\"none\" stroke=\"#000000\" cx=\"508.4264\" cy=\"-187.43\" rx=\"42.3529\" ry=\"37.4533\"/>\n<text text-anchor=\"middle\" x=\"508.4264\" y=\"-198.73\" font-family=\"Times,serif\" font-size=\"14.00\" fill=\"#000000\">a</text>\n<text text-anchor=\"middle\" x=\"508.4264\" y=\"-183.73\" font-family=\"Times,serif\" font-size=\"14.00\" fill=\"#000000\">~</text>\n<text text-anchor=\"middle\" x=\"508.4264\" y=\"-168.73\" font-family=\"Times,serif\" font-size=\"14.00\" fill=\"#000000\">Normal</text>\n</g>\n<!-- a&#45;&gt;K -->\n<g id=\"edge6\" class=\"edge\">\n<title>a&#45;&gt;K</title>\n<path fill=\"none\" stroke=\"#000000\" d=\"M477.2505,-161.6227C470.9567,-157.265 464.1885,-153.1311 457.4264,-149.9533 377.5305,-112.4068 276.0654,-92.5135 215.6293,-83.2623\"/>\n<polygon fill=\"#000000\" stroke=\"#000000\" points=\"215.9712,-79.7747 205.5645,-81.7622 214.9392,-86.6982 215.9712,-79.7747\"/>\n</g>\n<!-- bM -->\n<g id=\"node6\" class=\"node\">\n<title>bM</title>\n<ellipse fill=\"none\" stroke=\"#000000\" cx=\"611.4264\" cy=\"-187.43\" rx=\"42.3529\" ry=\"37.4533\"/>\n<text text-anchor=\"middle\" x=\"611.4264\" y=\"-198.73\" font-family=\"Times,serif\" font-size=\"14.00\" fill=\"#000000\">bM</text>\n<text text-anchor=\"middle\" x=\"611.4264\" y=\"-183.73\" font-family=\"Times,serif\" font-size=\"14.00\" fill=\"#000000\">~</text>\n<text text-anchor=\"middle\" x=\"611.4264\" y=\"-168.73\" font-family=\"Times,serif\" font-size=\"14.00\" fill=\"#000000\">Normal</text>\n</g>\n<!-- bM&#45;&gt;K -->\n<g id=\"edge8\" class=\"edge\">\n<title>bM&#45;&gt;K</title>\n<path fill=\"none\" stroke=\"#000000\" d=\"M580.3073,-161.6762C573.7225,-157.2047 566.589,-153.0152 559.4264,-149.9533 443.2841,-100.3042 293.877,-84.1379 215.9778,-78.9224\"/>\n<polygon fill=\"#000000\" stroke=\"#000000\" points=\"216.129,-75.425 205.9272,-78.2841 215.6852,-82.411 216.129,-75.425\"/>\n</g>\n<!-- B_missing -->\n<g id=\"node7\" class=\"node\">\n<title>B_missing</title>\n<ellipse fill=\"none\" stroke=\"#000000\" cx=\"315.4264\" cy=\"-309.3833\" rx=\"73.5782\" ry=\"37.4533\"/>\n<text text-anchor=\"middle\" x=\"315.4264\" y=\"-320.6833\" font-family=\"Times,serif\" font-size=\"14.00\" fill=\"#000000\">B_missing</text>\n<text text-anchor=\"middle\" x=\"315.4264\" y=\"-305.6833\" font-family=\"Times,serif\" font-size=\"14.00\" fill=\"#000000\">~</text>\n<text text-anchor=\"middle\" x=\"315.4264\" y=\"-290.6833\" font-family=\"Times,serif\" font-size=\"14.00\" fill=\"#000000\">NoDistribution</text>\n</g>\n<!-- B_missing&#45;&gt;B -->\n<g id=\"edge1\" class=\"edge\">\n<title>B_missing&#45;&gt;B</title>\n<path fill=\"none\" stroke=\"#000000\" d=\"M280.3472,-276.4128C266.4031,-264.3169 249.7999,-251.1036 233.4264,-240.9066 225.9951,-236.2786 222.8044,-237.6191 215.4264,-232.9066 210.1864,-229.5597 204.936,-225.7033 199.8945,-221.6811\"/>\n<polygon fill=\"#000000\" stroke=\"#000000\" points=\"202.1054,-218.9676 192.1755,-215.2732 197.6342,-224.3536 202.1054,-218.9676\"/>\n</g>\n<!-- B&#45;&gt;K -->\n<g id=\"edge7\" class=\"edge\">\n<title>B&#45;&gt;K</title>\n<path fill=\"none\" stroke=\"#000000\" d=\"M163.4264,-149.8662C163.4264,-141.6423 163.4264,-132.8301 163.4264,-124.267\"/>\n<polygon fill=\"#000000\" stroke=\"#000000\" points=\"166.9265,-124.0017 163.4264,-114.0017 159.9265,-124.0017 166.9265,-124.0017\"/>\n</g>\n</g>\n</svg>\n"
          },
          "metadata": {
            "tags": []
          },
          "execution_count": 8
        }
      ]
    },
    {
      "cell_type": "markdown",
      "metadata": {
        "id": "vFeJZeDMdCwm"
      },
      "source": [
        "# Code 15.18"
      ]
    },
    {
      "cell_type": "code",
      "metadata": {
        "id": "sbxractMiBNq",
        "colab": {
          "base_uri": "https://localhost:8080/",
          "height": 661
        },
        "outputId": "5abbc722-cd7e-465c-e56f-8857a7312f9e"
      },
      "source": [
        "pm.summary(trace_15_5)"
      ],
      "execution_count": null,
      "outputs": [
        {
          "output_type": "stream",
          "text": [
            "/usr/local/lib/python3.7/dist-packages/arviz/data/io_pymc3.py:100: FutureWarning: Using `from_pymc3` without the model will be deprecated in a future release. Not using the model will return less accurate and less useful results. Make sure you use the model argument or call from_pymc3 within a model context.\n",
            "  FutureWarning,\n"
          ],
          "name": "stderr"
        },
        {
          "output_type": "execute_result",
          "data": {
            "text/html": [
              "<div>\n",
              "<style scoped>\n",
              "    .dataframe tbody tr th:only-of-type {\n",
              "        vertical-align: middle;\n",
              "    }\n",
              "\n",
              "    .dataframe tbody tr th {\n",
              "        vertical-align: top;\n",
              "    }\n",
              "\n",
              "    .dataframe thead th {\n",
              "        text-align: right;\n",
              "    }\n",
              "</style>\n",
              "<table border=\"1\" class=\"dataframe\">\n",
              "  <thead>\n",
              "    <tr style=\"text-align: right;\">\n",
              "      <th></th>\n",
              "      <th>mean</th>\n",
              "      <th>sd</th>\n",
              "      <th>hdi_3%</th>\n",
              "      <th>hdi_97%</th>\n",
              "      <th>mcse_mean</th>\n",
              "      <th>mcse_sd</th>\n",
              "      <th>ess_bulk</th>\n",
              "      <th>ess_tail</th>\n",
              "      <th>r_hat</th>\n",
              "    </tr>\n",
              "  </thead>\n",
              "  <tbody>\n",
              "    <tr>\n",
              "      <th>a</th>\n",
              "      <td>0.030</td>\n",
              "      <td>0.165</td>\n",
              "      <td>-0.285</td>\n",
              "      <td>0.328</td>\n",
              "      <td>0.004</td>\n",
              "      <td>0.004</td>\n",
              "      <td>1863.0</td>\n",
              "      <td>1357.0</td>\n",
              "      <td>1.0</td>\n",
              "    </tr>\n",
              "    <tr>\n",
              "      <th>nu</th>\n",
              "      <td>-0.053</td>\n",
              "      <td>0.204</td>\n",
              "      <td>-0.442</td>\n",
              "      <td>0.328</td>\n",
              "      <td>0.006</td>\n",
              "      <td>0.004</td>\n",
              "      <td>1309.0</td>\n",
              "      <td>1610.0</td>\n",
              "      <td>1.0</td>\n",
              "    </tr>\n",
              "    <tr>\n",
              "      <th>bB</th>\n",
              "      <td>0.500</td>\n",
              "      <td>0.227</td>\n",
              "      <td>0.056</td>\n",
              "      <td>0.887</td>\n",
              "      <td>0.008</td>\n",
              "      <td>0.006</td>\n",
              "      <td>793.0</td>\n",
              "      <td>1517.0</td>\n",
              "      <td>1.0</td>\n",
              "    </tr>\n",
              "    <tr>\n",
              "      <th>bM</th>\n",
              "      <td>-0.545</td>\n",
              "      <td>0.198</td>\n",
              "      <td>-0.915</td>\n",
              "      <td>-0.173</td>\n",
              "      <td>0.006</td>\n",
              "      <td>0.004</td>\n",
              "      <td>1190.0</td>\n",
              "      <td>1443.0</td>\n",
              "      <td>1.0</td>\n",
              "    </tr>\n",
              "    <tr>\n",
              "      <th>B_missing[0]</th>\n",
              "      <td>-0.572</td>\n",
              "      <td>0.897</td>\n",
              "      <td>-2.136</td>\n",
              "      <td>1.258</td>\n",
              "      <td>0.021</td>\n",
              "      <td>0.017</td>\n",
              "      <td>1813.0</td>\n",
              "      <td>1338.0</td>\n",
              "      <td>1.0</td>\n",
              "    </tr>\n",
              "    <tr>\n",
              "      <th>B_missing[1]</th>\n",
              "      <td>-0.702</td>\n",
              "      <td>0.888</td>\n",
              "      <td>-2.334</td>\n",
              "      <td>0.988</td>\n",
              "      <td>0.023</td>\n",
              "      <td>0.019</td>\n",
              "      <td>1556.0</td>\n",
              "      <td>1306.0</td>\n",
              "      <td>1.0</td>\n",
              "    </tr>\n",
              "    <tr>\n",
              "      <th>B_missing[2]</th>\n",
              "      <td>-0.747</td>\n",
              "      <td>0.931</td>\n",
              "      <td>-2.454</td>\n",
              "      <td>1.052</td>\n",
              "      <td>0.022</td>\n",
              "      <td>0.019</td>\n",
              "      <td>1829.0</td>\n",
              "      <td>1550.0</td>\n",
              "      <td>1.0</td>\n",
              "    </tr>\n",
              "    <tr>\n",
              "      <th>B_missing[3]</th>\n",
              "      <td>-0.280</td>\n",
              "      <td>0.892</td>\n",
              "      <td>-1.973</td>\n",
              "      <td>1.390</td>\n",
              "      <td>0.021</td>\n",
              "      <td>0.022</td>\n",
              "      <td>1801.0</td>\n",
              "      <td>1313.0</td>\n",
              "      <td>1.0</td>\n",
              "    </tr>\n",
              "    <tr>\n",
              "      <th>B_missing[4]</th>\n",
              "      <td>0.469</td>\n",
              "      <td>0.886</td>\n",
              "      <td>-1.229</td>\n",
              "      <td>2.130</td>\n",
              "      <td>0.019</td>\n",
              "      <td>0.018</td>\n",
              "      <td>2183.0</td>\n",
              "      <td>1428.0</td>\n",
              "      <td>1.0</td>\n",
              "    </tr>\n",
              "    <tr>\n",
              "      <th>B_missing[5]</th>\n",
              "      <td>-0.186</td>\n",
              "      <td>0.903</td>\n",
              "      <td>-1.890</td>\n",
              "      <td>1.465</td>\n",
              "      <td>0.020</td>\n",
              "      <td>0.021</td>\n",
              "      <td>2071.0</td>\n",
              "      <td>1557.0</td>\n",
              "      <td>1.0</td>\n",
              "    </tr>\n",
              "    <tr>\n",
              "      <th>B_missing[6]</th>\n",
              "      <td>0.184</td>\n",
              "      <td>0.881</td>\n",
              "      <td>-1.517</td>\n",
              "      <td>1.822</td>\n",
              "      <td>0.020</td>\n",
              "      <td>0.020</td>\n",
              "      <td>1985.0</td>\n",
              "      <td>1357.0</td>\n",
              "      <td>1.0</td>\n",
              "    </tr>\n",
              "    <tr>\n",
              "      <th>B_missing[7]</th>\n",
              "      <td>0.273</td>\n",
              "      <td>0.905</td>\n",
              "      <td>-1.403</td>\n",
              "      <td>2.090</td>\n",
              "      <td>0.020</td>\n",
              "      <td>0.020</td>\n",
              "      <td>2051.0</td>\n",
              "      <td>1392.0</td>\n",
              "      <td>1.0</td>\n",
              "    </tr>\n",
              "    <tr>\n",
              "      <th>B_missing[8]</th>\n",
              "      <td>0.499</td>\n",
              "      <td>0.912</td>\n",
              "      <td>-1.157</td>\n",
              "      <td>2.241</td>\n",
              "      <td>0.023</td>\n",
              "      <td>0.021</td>\n",
              "      <td>1604.0</td>\n",
              "      <td>996.0</td>\n",
              "      <td>1.0</td>\n",
              "    </tr>\n",
              "    <tr>\n",
              "      <th>B_missing[9]</th>\n",
              "      <td>-0.468</td>\n",
              "      <td>0.933</td>\n",
              "      <td>-2.176</td>\n",
              "      <td>1.262</td>\n",
              "      <td>0.021</td>\n",
              "      <td>0.023</td>\n",
              "      <td>2041.0</td>\n",
              "      <td>1151.0</td>\n",
              "      <td>1.0</td>\n",
              "    </tr>\n",
              "    <tr>\n",
              "      <th>B_missing[10]</th>\n",
              "      <td>-0.290</td>\n",
              "      <td>0.871</td>\n",
              "      <td>-2.072</td>\n",
              "      <td>1.187</td>\n",
              "      <td>0.019</td>\n",
              "      <td>0.019</td>\n",
              "      <td>2073.0</td>\n",
              "      <td>1205.0</td>\n",
              "      <td>1.0</td>\n",
              "    </tr>\n",
              "    <tr>\n",
              "      <th>B_missing[11]</th>\n",
              "      <td>0.118</td>\n",
              "      <td>0.888</td>\n",
              "      <td>-1.560</td>\n",
              "      <td>1.750</td>\n",
              "      <td>0.020</td>\n",
              "      <td>0.019</td>\n",
              "      <td>1954.0</td>\n",
              "      <td>1516.0</td>\n",
              "      <td>1.0</td>\n",
              "    </tr>\n",
              "    <tr>\n",
              "      <th>sigma</th>\n",
              "      <td>0.844</td>\n",
              "      <td>0.138</td>\n",
              "      <td>0.618</td>\n",
              "      <td>1.118</td>\n",
              "      <td>0.004</td>\n",
              "      <td>0.003</td>\n",
              "      <td>1108.0</td>\n",
              "      <td>1340.0</td>\n",
              "      <td>1.0</td>\n",
              "    </tr>\n",
              "    <tr>\n",
              "      <th>sigma_B</th>\n",
              "      <td>1.007</td>\n",
              "      <td>0.172</td>\n",
              "      <td>0.698</td>\n",
              "      <td>1.304</td>\n",
              "      <td>0.005</td>\n",
              "      <td>0.004</td>\n",
              "      <td>1091.0</td>\n",
              "      <td>1376.0</td>\n",
              "      <td>1.0</td>\n",
              "    </tr>\n",
              "  </tbody>\n",
              "</table>\n",
              "</div>"
            ],
            "text/plain": [
              "                mean     sd  hdi_3%  ...  ess_bulk  ess_tail  r_hat\n",
              "a              0.030  0.165  -0.285  ...    1863.0    1357.0    1.0\n",
              "nu            -0.053  0.204  -0.442  ...    1309.0    1610.0    1.0\n",
              "bB             0.500  0.227   0.056  ...     793.0    1517.0    1.0\n",
              "bM            -0.545  0.198  -0.915  ...    1190.0    1443.0    1.0\n",
              "B_missing[0]  -0.572  0.897  -2.136  ...    1813.0    1338.0    1.0\n",
              "B_missing[1]  -0.702  0.888  -2.334  ...    1556.0    1306.0    1.0\n",
              "B_missing[2]  -0.747  0.931  -2.454  ...    1829.0    1550.0    1.0\n",
              "B_missing[3]  -0.280  0.892  -1.973  ...    1801.0    1313.0    1.0\n",
              "B_missing[4]   0.469  0.886  -1.229  ...    2183.0    1428.0    1.0\n",
              "B_missing[5]  -0.186  0.903  -1.890  ...    2071.0    1557.0    1.0\n",
              "B_missing[6]   0.184  0.881  -1.517  ...    1985.0    1357.0    1.0\n",
              "B_missing[7]   0.273  0.905  -1.403  ...    2051.0    1392.0    1.0\n",
              "B_missing[8]   0.499  0.912  -1.157  ...    1604.0     996.0    1.0\n",
              "B_missing[9]  -0.468  0.933  -2.176  ...    2041.0    1151.0    1.0\n",
              "B_missing[10] -0.290  0.871  -2.072  ...    2073.0    1205.0    1.0\n",
              "B_missing[11]  0.118  0.888  -1.560  ...    1954.0    1516.0    1.0\n",
              "sigma          0.844  0.138   0.618  ...    1108.0    1340.0    1.0\n",
              "sigma_B        1.007  0.172   0.698  ...    1091.0    1376.0    1.0\n",
              "\n",
              "[18 rows x 9 columns]"
            ]
          },
          "metadata": {
            "tags": []
          },
          "execution_count": 9
        }
      ]
    },
    {
      "cell_type": "markdown",
      "metadata": {
        "id": "k68_7cxUdE23"
      },
      "source": [
        "# Code 15.19"
      ]
    },
    {
      "cell_type": "code",
      "metadata": {
        "id": "NyACSPJejNZz",
        "colab": {
          "base_uri": "https://localhost:8080/"
        },
        "outputId": "b50f7b93-756c-4362-b3e2-3fce57981d22"
      },
      "source": [
        "index = d['neocortex.prop'].notna().values\n",
        "print(index.sum())"
      ],
      "execution_count": null,
      "outputs": [
        {
          "output_type": "stream",
          "text": [
            "17\n"
          ],
          "name": "stdout"
        }
      ]
    },
    {
      "cell_type": "code",
      "metadata": {
        "id": "rF2K_teDkOCH",
        "colab": {
          "base_uri": "https://localhost:8080/"
        },
        "outputId": "22dc60a5-0ffa-4312-a42f-74aef5ed0505"
      },
      "source": [
        "K_ = standardize(d['kcal.per.g'].values[index])\n",
        "B_ = standardize(d['neocortex.prop'].values[index])\n",
        "M_ = standardize(d['logmass'].values[index])\n",
        "print(K_.shape, B_.shape, M_.shape)"
      ],
      "execution_count": null,
      "outputs": [
        {
          "output_type": "stream",
          "text": [
            "(17,) (17,) (17,)\n"
          ],
          "name": "stdout"
        }
      ]
    },
    {
      "cell_type": "code",
      "metadata": {
        "id": "ooxdxk6Dv-H9",
        "colab": {
          "base_uri": "https://localhost:8080/",
          "height": 196
        },
        "outputId": "6a2d69fa-b080-46b7-d7aa-682f99719522"
      },
      "source": [
        "K_ = standardize(d['kcal.per.g'].values[index])\n",
        "B_ = standardize(d['neocortex.prop'].values[index])\n",
        "M_ = standardize(d['logmass'].values[index])\n",
        "\n",
        "with pm.Model() as m15_6:\n",
        "  sigma = pm.Exponential(\"sigma\",1)\n",
        "  sigma_B = pm.Exponential(\"sigma_B\",1)\n",
        "  a = pm.Normal(\"a\", 0, 0.5)\n",
        "  nu = pm.Normal(\"nu\", 0, 0.5)\n",
        "  bB = pm.Normal(\"bB\", 0, 0.5)\n",
        "  bM = pm.Normal(\"bM\", 0, 0.5)\n",
        "  B = pm.Normal(\"B\", nu, sigma_B, observed=B_)\n",
        "  mu = a + bB * B + bM * M_\n",
        "  K = pm.Normal(\"K\", mu, sigma, observed=K_)\n",
        "\n",
        "  trace_15_6 = pm.sample()\n"
      ],
      "execution_count": null,
      "outputs": [
        {
          "output_type": "stream",
          "text": [
            "/usr/local/lib/python3.6/dist-packages/pymc3/sampling.py:468: FutureWarning: In an upcoming release, pm.sample will return an `arviz.InferenceData` object instead of a `MultiTrace` by default. You can pass return_inferencedata=True or return_inferencedata=False to be safe and silence this warning.\n",
            "  FutureWarning,\n",
            "Auto-assigning NUTS sampler...\n",
            "Initializing NUTS using jitter+adapt_diag...\n",
            "Sequential sampling (2 chains in 1 job)\n",
            "NUTS: [bM, bB, nu, a, sigma_B, sigma]\n"
          ],
          "name": "stderr"
        },
        {
          "output_type": "display_data",
          "data": {
            "text/html": [
              "\n",
              "    <div>\n",
              "        <style>\n",
              "            /* Turns off some styling */\n",
              "            progress {\n",
              "                /* gets rid of default border in Firefox and Opera. */\n",
              "                border: none;\n",
              "                /* Needs to be in here for Safari polyfill so background images work as expected. */\n",
              "                background-size: auto;\n",
              "            }\n",
              "            .progress-bar-interrupted, .progress-bar-interrupted::-webkit-progress-bar {\n",
              "                background: #F44336;\n",
              "            }\n",
              "        </style>\n",
              "      <progress value='2000' class='' max='2000' style='width:300px; height:20px; vertical-align: middle;'></progress>\n",
              "      100.00% [2000/2000 00:02<00:00 Sampling chain 0, 0 divergences]\n",
              "    </div>\n",
              "    "
            ],
            "text/plain": [
              "<IPython.core.display.HTML object>"
            ]
          },
          "metadata": {
            "tags": []
          }
        },
        {
          "output_type": "display_data",
          "data": {
            "text/html": [
              "\n",
              "    <div>\n",
              "        <style>\n",
              "            /* Turns off some styling */\n",
              "            progress {\n",
              "                /* gets rid of default border in Firefox and Opera. */\n",
              "                border: none;\n",
              "                /* Needs to be in here for Safari polyfill so background images work as expected. */\n",
              "                background-size: auto;\n",
              "            }\n",
              "            .progress-bar-interrupted, .progress-bar-interrupted::-webkit-progress-bar {\n",
              "                background: #F44336;\n",
              "            }\n",
              "        </style>\n",
              "      <progress value='2000' class='' max='2000' style='width:300px; height:20px; vertical-align: middle;'></progress>\n",
              "      100.00% [2000/2000 00:02<00:00 Sampling chain 1, 0 divergences]\n",
              "    </div>\n",
              "    "
            ],
            "text/plain": [
              "<IPython.core.display.HTML object>"
            ]
          },
          "metadata": {
            "tags": []
          }
        },
        {
          "output_type": "stream",
          "text": [
            "Sampling 2 chains for 1_000 tune and 1_000 draw iterations (2_000 + 2_000 draws total) took 5 seconds.\n"
          ],
          "name": "stderr"
        }
      ]
    },
    {
      "cell_type": "code",
      "metadata": {
        "id": "BCwXJvgXwgPM",
        "colab": {
          "base_uri": "https://localhost:8080/",
          "height": 289
        },
        "outputId": "52d83529-b3cd-4a84-f992-5f1cacf72a64"
      },
      "source": [
        "pm.summary(trace_15_6)"
      ],
      "execution_count": null,
      "outputs": [
        {
          "output_type": "stream",
          "text": [
            "/usr/local/lib/python3.6/dist-packages/arviz/data/io_pymc3.py:92: FutureWarning: Using `from_pymc3` without the model will be deprecated in a future release. Not using the model will return less accurate and less useful results. Make sure you use the model argument or call from_pymc3 within a model context.\n",
            "  FutureWarning,\n"
          ],
          "name": "stderr"
        },
        {
          "output_type": "execute_result",
          "data": {
            "text/html": [
              "<div>\n",
              "<style scoped>\n",
              "    .dataframe tbody tr th:only-of-type {\n",
              "        vertical-align: middle;\n",
              "    }\n",
              "\n",
              "    .dataframe tbody tr th {\n",
              "        vertical-align: top;\n",
              "    }\n",
              "\n",
              "    .dataframe thead th {\n",
              "        text-align: right;\n",
              "    }\n",
              "</style>\n",
              "<table border=\"1\" class=\"dataframe\">\n",
              "  <thead>\n",
              "    <tr style=\"text-align: right;\">\n",
              "      <th></th>\n",
              "      <th>mean</th>\n",
              "      <th>sd</th>\n",
              "      <th>hdi_3%</th>\n",
              "      <th>hdi_97%</th>\n",
              "      <th>mcse_mean</th>\n",
              "      <th>mcse_sd</th>\n",
              "      <th>ess_mean</th>\n",
              "      <th>ess_sd</th>\n",
              "      <th>ess_bulk</th>\n",
              "      <th>ess_tail</th>\n",
              "      <th>r_hat</th>\n",
              "    </tr>\n",
              "  </thead>\n",
              "  <tbody>\n",
              "    <tr>\n",
              "      <th>a</th>\n",
              "      <td>0.002</td>\n",
              "      <td>0.192</td>\n",
              "      <td>-0.343</td>\n",
              "      <td>0.381</td>\n",
              "      <td>0.005</td>\n",
              "      <td>0.005</td>\n",
              "      <td>1430.0</td>\n",
              "      <td>868.0</td>\n",
              "      <td>1452.0</td>\n",
              "      <td>1221.0</td>\n",
              "      <td>1.0</td>\n",
              "    </tr>\n",
              "    <tr>\n",
              "      <th>nu</th>\n",
              "      <td>0.004</td>\n",
              "      <td>0.231</td>\n",
              "      <td>-0.449</td>\n",
              "      <td>0.415</td>\n",
              "      <td>0.006</td>\n",
              "      <td>0.006</td>\n",
              "      <td>1712.0</td>\n",
              "      <td>796.0</td>\n",
              "      <td>1715.0</td>\n",
              "      <td>1148.0</td>\n",
              "      <td>1.0</td>\n",
              "    </tr>\n",
              "    <tr>\n",
              "      <th>bB</th>\n",
              "      <td>0.570</td>\n",
              "      <td>0.256</td>\n",
              "      <td>0.118</td>\n",
              "      <td>1.056</td>\n",
              "      <td>0.007</td>\n",
              "      <td>0.005</td>\n",
              "      <td>1334.0</td>\n",
              "      <td>1334.0</td>\n",
              "      <td>1349.0</td>\n",
              "      <td>1355.0</td>\n",
              "      <td>1.0</td>\n",
              "    </tr>\n",
              "    <tr>\n",
              "      <th>bM</th>\n",
              "      <td>-0.671</td>\n",
              "      <td>0.256</td>\n",
              "      <td>-1.122</td>\n",
              "      <td>-0.179</td>\n",
              "      <td>0.007</td>\n",
              "      <td>0.005</td>\n",
              "      <td>1242.0</td>\n",
              "      <td>1242.0</td>\n",
              "      <td>1268.0</td>\n",
              "      <td>1394.0</td>\n",
              "      <td>1.0</td>\n",
              "    </tr>\n",
              "    <tr>\n",
              "      <th>sigma</th>\n",
              "      <td>0.839</td>\n",
              "      <td>0.173</td>\n",
              "      <td>0.565</td>\n",
              "      <td>1.189</td>\n",
              "      <td>0.005</td>\n",
              "      <td>0.004</td>\n",
              "      <td>1152.0</td>\n",
              "      <td>1142.0</td>\n",
              "      <td>1138.0</td>\n",
              "      <td>949.0</td>\n",
              "      <td>1.0</td>\n",
              "    </tr>\n",
              "    <tr>\n",
              "      <th>sigma_B</th>\n",
              "      <td>1.071</td>\n",
              "      <td>0.194</td>\n",
              "      <td>0.744</td>\n",
              "      <td>1.434</td>\n",
              "      <td>0.005</td>\n",
              "      <td>0.004</td>\n",
              "      <td>1341.0</td>\n",
              "      <td>1234.0</td>\n",
              "      <td>1557.0</td>\n",
              "      <td>1106.0</td>\n",
              "      <td>1.0</td>\n",
              "    </tr>\n",
              "  </tbody>\n",
              "</table>\n",
              "</div>"
            ],
            "text/plain": [
              "          mean     sd  hdi_3%  hdi_97%  ...  ess_sd  ess_bulk  ess_tail  r_hat\n",
              "a        0.002  0.192  -0.343    0.381  ...   868.0    1452.0    1221.0    1.0\n",
              "nu       0.004  0.231  -0.449    0.415  ...   796.0    1715.0    1148.0    1.0\n",
              "bB       0.570  0.256   0.118    1.056  ...  1334.0    1349.0    1355.0    1.0\n",
              "bM      -0.671  0.256  -1.122   -0.179  ...  1242.0    1268.0    1394.0    1.0\n",
              "sigma    0.839  0.173   0.565    1.189  ...  1142.0    1138.0     949.0    1.0\n",
              "sigma_B  1.071  0.194   0.744    1.434  ...  1234.0    1557.0    1106.0    1.0\n",
              "\n",
              "[6 rows x 11 columns]"
            ]
          },
          "metadata": {
            "tags": []
          },
          "execution_count": 30
        }
      ]
    },
    {
      "cell_type": "markdown",
      "metadata": {
        "id": "xBFNPytIdhZD"
      },
      "source": [
        "# Code 15.20"
      ]
    },
    {
      "cell_type": "code",
      "metadata": {
        "id": "bPTs16l8wq7g",
        "colab": {
          "base_uri": "https://localhost:8080/",
          "height": 646
        },
        "outputId": "497ffbcc-27fb-4479-9e03-189b8e11f0dc"
      },
      "source": [
        "pm.plot_forest([trace_15_5, trace_15_6], var_names=[\"bB\", \"bM\"],combined=True)"
      ],
      "execution_count": null,
      "outputs": [
        {
          "output_type": "stream",
          "text": [
            "/usr/local/lib/python3.6/dist-packages/arviz/data/io_pymc3.py:92: FutureWarning: Using `from_pymc3` without the model will be deprecated in a future release. Not using the model will return less accurate and less useful results. Make sure you use the model argument or call from_pymc3 within a model context.\n",
            "  FutureWarning,\n"
          ],
          "name": "stderr"
        },
        {
          "output_type": "execute_result",
          "data": {
            "text/plain": [
              "array([<matplotlib.axes._subplots.AxesSubplot object at 0x7f718d3f3080>],\n",
              "      dtype=object)"
            ]
          },
          "metadata": {
            "tags": []
          },
          "execution_count": 31
        },
        {
          "output_type": "display_data",
          "data": {
            "image/png": "[encoded data removed]",
            "text/plain": [
              "<Figure size 432x532.8 with 1 Axes>"
            ]
          },
          "metadata": {
            "tags": [],
            "needs_background": "light"
          }
        }
      ]
    },
    {
      "cell_type": "code",
      "metadata": {
        "id": "bOvL9XOnwiJ-"
      },
      "source": [
        "B_impute_mu = trace_15_5[\"B_missing\"].mean(0)\n",
        "B_impute_sd = trace_15_5[\"B_missing\"].std(0)"
      ],
      "execution_count": null,
      "outputs": []
    },
    {
      "cell_type": "code",
      "metadata": {
        "id": "APvJCnmZyeNa",
        "colab": {
          "base_uri": "https://localhost:8080/"
        },
        "outputId": "97fba296-0c16-47f2-ade5-5293a852054e"
      },
      "source": [
        "B_impute_mu.shape"
      ],
      "execution_count": null,
      "outputs": [
        {
          "output_type": "execute_result",
          "data": {
            "text/plain": [
              "(12,)"
            ]
          },
          "metadata": {
            "tags": []
          },
          "execution_count": 33
        }
      ]
    },
    {
      "cell_type": "code",
      "metadata": {
        "id": "2puwP3jYxGRH",
        "colab": {
          "base_uri": "https://localhost:8080/",
          "height": 283
        },
        "outputId": "f739e7b6-5e38-4f20-cef1-70712e2e7c67"
      },
      "source": [
        "K_ = standardize(d['kcal.per.g']).values\n",
        "B_ = standardize(d['neocortex.prop']).values\n",
        "M_ = standardize(d['logmass']).values\n",
        "\n",
        "_, ax = plt.subplots(1, 2, figsize=(12, 4))\n",
        "ax[0].scatter(B_[index], K_[index])\n",
        "ax[0].errorbar(B_impute_mu, K_[~index],xerr=B_impute_sd, \n",
        "               fmt='o',\n",
        "               color='k', \n",
        "               markerfacecolor='none',\n",
        "               markeredgewidth = 0.5,\n",
        "               elinewidth = 1)\n",
        "ax[0].set_xlabel(\"neocortex percent (std)\")\n",
        "ax[0].set_ylabel(\"kcal milk (std)\")\n",
        "\n",
        "ax[0].scatter(B_[index], K_[index])\n",
        "ax[0].errorbar(B_impute_mu, K_[~index],xerr=B_impute_sd, \n",
        "               fmt='o',\n",
        "               color='k', \n",
        "               markerfacecolor='none',\n",
        "               markeredgewidth = 0.5,\n",
        "               elinewidth = 1)\n",
        "ax[0].set_xlabel(\"neocortex percent (std)\")\n",
        "ax[0].set_ylabel(\"kcal milk (std)\")\n",
        "\n",
        "plt.show()"
      ],
      "execution_count": null,
      "outputs": [
        {
          "output_type": "display_data",
          "data": {
            "image/png": "[encoded data removed]",
            "text/plain": [
              "<Figure size 864x288 with 2 Axes>"
            ]
          },
          "metadata": {
            "tags": [],
            "needs_background": "light"
          }
        }
      ]
    },
    {
      "cell_type": "code",
      "metadata": {
        "id": "MoysMCflQ7cj",
        "colab": {
          "base_uri": "https://localhost:8080/"
        },
        "outputId": "0af93846-8fdd-4df1-9a63-c9ba2e54e58c"
      },
      "source": [
        "d[\"neocortex.prop\"] = d[\"neocortex.perc\"] / 100\n",
        "d[\"logmass\"] = np.log(d[\"mass\"])\n",
        "\n",
        "K = standardize(d[\"kcal.per.g\"])\n",
        "B = standardize(d[\"neocortex.prop\"])\n",
        "M = standardize(d[\"logmass\"])\n",
        "\n",
        "print(f\"Number of missing values in B = {np.sum(B.isna())}\")\n",
        "\n",
        "X_masked = np.ma.masked_invalid(np.stack([B, M]).T)\n",
        "print(X_masked.shape)"
      ],
      "execution_count": null,
      "outputs": [
        {
          "output_type": "stream",
          "text": [
            "Number of missing values in B = 12\n",
            "(29, 2)\n"
          ],
          "name": "stdout"
        }
      ]
    },
    {
      "cell_type": "code",
      "metadata": {
        "id": "j4WnY4a7x5Oh",
        "colab": {
          "base_uri": "https://localhost:8080/",
          "height": 85
        },
        "outputId": "605c413d-9e31-49f5-8cb3-3afff2fbc3fe"
      },
      "source": [
        "d['neocortex.prop'].values"
      ],
      "execution_count": null,
      "outputs": [
        {
          "output_type": "execute_result",
          "data": {
            "text/plain": [
              "array([0.5516,    nan,    nan,    nan,    nan, 0.6454, 0.6454, 0.6764,\n",
              "          nan, 0.6885, 0.5885, 0.6169, 0.6032,    nan,    nan, 0.6997,\n",
              "          nan, 0.7041,    nan, 0.734 ,    nan, 0.6753,    nan, 0.7126,\n",
              "       0.726 ,    nan, 0.7024, 0.763 , 0.7549])"
            ]
          },
          "metadata": {
            "tags": []
          },
          "execution_count": 11
        }
      ]
    },
    {
      "cell_type": "code",
      "metadata": {
        "id": "uYP3mKUZy3zY",
        "colab": {
          "base_uri": "https://localhost:8080/",
          "height": 431
        },
        "outputId": "896cbec1-7809-4cdd-e059-b5a89abb59f5"
      },
      "source": [
        "MB_masked = np.ma.masked_invalid(np.stack([M, B]).T)\n",
        "\n",
        "with pm.Model() as m15_7:\n",
        "    sigma = pm.Exponential(\"sigma\", 1)\n",
        "    muM = pm.Normal(\"muM\", 0, 0.5)\n",
        "    muB = pm.Normal(\"muB\", 0, 0.5)\n",
        "    bM = pm.Normal(\"bM\", 0, 0.5)\n",
        "    bB = pm.Normal(\"bB\", 0, 0.5)\n",
        "    a = pm.Normal(\"a\", 0, 0.5)\n",
        "\n",
        "    chol, _, _ = pm.LKJCholeskyCov(\n",
        "        \"chol_cov\", n=2, eta=2, sd_dist=pm.Exponential.dist(1), compute_corr=True\n",
        "    )\n",
        "\n",
        "    # M and B correlation\n",
        "    MB = pm.MvNormal(\"MB\", mu=tt.stack([muM, muB]), chol=chol, observed=MB_masked)\n",
        "\n",
        "    mu = a + bB * MB[:, 1] + bM * M\n",
        "\n",
        "    Ki = pm.Normal(\"Ki\", mu, sigma, observed=K)\n",
        "\n",
        "    idata_m15_7 = pm.sample(return_inferencedata=True)\n",
        "\n",
        "idata_m15_7.posterior = idata_m15_7.posterior.rename_vars({\"chol_cov_corr\": \"Rho_MB\"})\n",
        "# Strong correlation between M and B\n",
        "az.summary(idata_m15_7, var_names=[\"bM\", \"bB\", \"Rho_MB\"], round_to=2)"
      ],
      "execution_count": null,
      "outputs": [
        {
          "output_type": "stream",
          "text": [
            "/usr/local/lib/python3.6/dist-packages/pymc3/model.py:1731: ImputationWarning: Data in MB contains missing values and will be automatically imputed from the sampling distribution.\n",
            "  warnings.warn(impute_message, ImputationWarning)\n",
            "Auto-assigning NUTS sampler...\n",
            "Initializing NUTS using jitter+adapt_diag...\n",
            "WARNING (theano.tensor.blas): We did not find a dynamic library in the library_dir of the library we use for blas. If you use ATLAS, make sure to compile it with dynamics library.\n",
            "Sequential sampling (2 chains in 1 job)\n",
            "NUTS: [MB_missing, chol_cov, a, bB, bM, muB, muM, sigma]\n"
          ],
          "name": "stderr"
        },
        {
          "output_type": "display_data",
          "data": {
            "text/html": [
              "\n",
              "    <div>\n",
              "        <style>\n",
              "            /* Turns off some styling */\n",
              "            progress {\n",
              "                /* gets rid of default border in Firefox and Opera. */\n",
              "                border: none;\n",
              "                /* Needs to be in here for Safari polyfill so background images work as expected. */\n",
              "                background-size: auto;\n",
              "            }\n",
              "            .progress-bar-interrupted, .progress-bar-interrupted::-webkit-progress-bar {\n",
              "                background: #F44336;\n",
              "            }\n",
              "        </style>\n",
              "      <progress value='2000' class='' max='2000' style='width:300px; height:20px; vertical-align: middle;'></progress>\n",
              "      100.00% [2000/2000 00:12<00:00 Sampling chain 0, 0 divergences]\n",
              "    </div>\n",
              "    "
            ],
            "text/plain": [
              "<IPython.core.display.HTML object>"
            ]
          },
          "metadata": {
            "tags": []
          }
        },
        {
          "output_type": "display_data",
          "data": {
            "text/html": [
              "\n",
              "    <div>\n",
              "        <style>\n",
              "            /* Turns off some styling */\n",
              "            progress {\n",
              "                /* gets rid of default border in Firefox and Opera. */\n",
              "                border: none;\n",
              "                /* Needs to be in here for Safari polyfill so background images work as expected. */\n",
              "                background-size: auto;\n",
              "            }\n",
              "            .progress-bar-interrupted, .progress-bar-interrupted::-webkit-progress-bar {\n",
              "                background: #F44336;\n",
              "            }\n",
              "        </style>\n",
              "      <progress value='2000' class='' max='2000' style='width:300px; height:20px; vertical-align: middle;'></progress>\n",
              "      100.00% [2000/2000 00:10<00:00 Sampling chain 1, 0 divergences]\n",
              "    </div>\n",
              "    "
            ],
            "text/plain": [
              "<IPython.core.display.HTML object>"
            ]
          },
          "metadata": {
            "tags": []
          }
        },
        {
          "output_type": "stream",
          "text": [
            "Sampling 2 chains for 1_000 tune and 1_000 draw iterations (2_000 + 2_000 draws total) took 23 seconds.\n"
          ],
          "name": "stderr"
        },
        {
          "output_type": "execute_result",
          "data": {
            "text/html": [
              "<div>\n",
              "<style scoped>\n",
              "    .dataframe tbody tr th:only-of-type {\n",
              "        vertical-align: middle;\n",
              "    }\n",
              "\n",
              "    .dataframe tbody tr th {\n",
              "        vertical-align: top;\n",
              "    }\n",
              "\n",
              "    .dataframe thead th {\n",
              "        text-align: right;\n",
              "    }\n",
              "</style>\n",
              "<table border=\"1\" class=\"dataframe\">\n",
              "  <thead>\n",
              "    <tr style=\"text-align: right;\">\n",
              "      <th></th>\n",
              "      <th>mean</th>\n",
              "      <th>sd</th>\n",
              "      <th>hdi_3%</th>\n",
              "      <th>hdi_97%</th>\n",
              "      <th>mcse_mean</th>\n",
              "      <th>mcse_sd</th>\n",
              "      <th>ess_mean</th>\n",
              "      <th>ess_sd</th>\n",
              "      <th>ess_bulk</th>\n",
              "      <th>ess_tail</th>\n",
              "      <th>r_hat</th>\n",
              "    </tr>\n",
              "  </thead>\n",
              "  <tbody>\n",
              "    <tr>\n",
              "      <th>bM</th>\n",
              "      <td>-0.63</td>\n",
              "      <td>0.23</td>\n",
              "      <td>-1.02</td>\n",
              "      <td>-0.19</td>\n",
              "      <td>0.01</td>\n",
              "      <td>0.00</td>\n",
              "      <td>1019.33</td>\n",
              "      <td>1019.33</td>\n",
              "      <td>1022.35</td>\n",
              "      <td>1357.97</td>\n",
              "      <td>1.0</td>\n",
              "    </tr>\n",
              "    <tr>\n",
              "      <th>bB</th>\n",
              "      <td>0.57</td>\n",
              "      <td>0.27</td>\n",
              "      <td>0.05</td>\n",
              "      <td>1.05</td>\n",
              "      <td>0.01</td>\n",
              "      <td>0.01</td>\n",
              "      <td>942.30</td>\n",
              "      <td>942.30</td>\n",
              "      <td>953.80</td>\n",
              "      <td>1252.63</td>\n",
              "      <td>1.0</td>\n",
              "    </tr>\n",
              "    <tr>\n",
              "      <th>Rho_MB[0,0]</th>\n",
              "      <td>1.00</td>\n",
              "      <td>0.00</td>\n",
              "      <td>1.00</td>\n",
              "      <td>1.00</td>\n",
              "      <td>0.00</td>\n",
              "      <td>0.00</td>\n",
              "      <td>2000.00</td>\n",
              "      <td>2000.00</td>\n",
              "      <td>2000.00</td>\n",
              "      <td>2000.00</td>\n",
              "      <td>NaN</td>\n",
              "    </tr>\n",
              "    <tr>\n",
              "      <th>Rho_MB[0,1]</th>\n",
              "      <td>0.60</td>\n",
              "      <td>0.14</td>\n",
              "      <td>0.35</td>\n",
              "      <td>0.84</td>\n",
              "      <td>0.00</td>\n",
              "      <td>0.00</td>\n",
              "      <td>1565.11</td>\n",
              "      <td>1442.33</td>\n",
              "      <td>1426.63</td>\n",
              "      <td>1355.22</td>\n",
              "      <td>1.0</td>\n",
              "    </tr>\n",
              "    <tr>\n",
              "      <th>Rho_MB[1,0]</th>\n",
              "      <td>0.60</td>\n",
              "      <td>0.14</td>\n",
              "      <td>0.35</td>\n",
              "      <td>0.84</td>\n",
              "      <td>0.00</td>\n",
              "      <td>0.00</td>\n",
              "      <td>1565.11</td>\n",
              "      <td>1442.33</td>\n",
              "      <td>1426.63</td>\n",
              "      <td>1355.22</td>\n",
              "      <td>1.0</td>\n",
              "    </tr>\n",
              "    <tr>\n",
              "      <th>Rho_MB[1,1]</th>\n",
              "      <td>1.00</td>\n",
              "      <td>0.00</td>\n",
              "      <td>1.00</td>\n",
              "      <td>1.00</td>\n",
              "      <td>0.00</td>\n",
              "      <td>0.00</td>\n",
              "      <td>2000.00</td>\n",
              "      <td>2000.00</td>\n",
              "      <td>1947.76</td>\n",
              "      <td>1719.53</td>\n",
              "      <td>1.0</td>\n",
              "    </tr>\n",
              "  </tbody>\n",
              "</table>\n",
              "</div>"
            ],
            "text/plain": [
              "             mean    sd  hdi_3%  hdi_97%  ...   ess_sd  ess_bulk  ess_tail  r_hat\n",
              "bM          -0.63  0.23   -1.02    -0.19  ...  1019.33   1022.35   1357.97    1.0\n",
              "bB           0.57  0.27    0.05     1.05  ...   942.30    953.80   1252.63    1.0\n",
              "Rho_MB[0,0]  1.00  0.00    1.00     1.00  ...  2000.00   2000.00   2000.00    NaN\n",
              "Rho_MB[0,1]  0.60  0.14    0.35     0.84  ...  1442.33   1426.63   1355.22    1.0\n",
              "Rho_MB[1,0]  0.60  0.14    0.35     0.84  ...  1442.33   1426.63   1355.22    1.0\n",
              "Rho_MB[1,1]  1.00  0.00    1.00     1.00  ...  2000.00   1947.76   1719.53    1.0\n",
              "\n",
              "[6 rows x 11 columns]"
            ]
          },
          "metadata": {
            "tags": []
          },
          "execution_count": 39
        }
      ]
    },
    {
      "cell_type": "code",
      "metadata": {
        "id": "SxzagtUpp8d9",
        "colab": {
          "base_uri": "https://localhost:8080/",
          "height": 651
        },
        "outputId": "0f40dfd5-e391-4be2-f608-a88a627de295"
      },
      "source": [
        "obs_idx = ~d[\"neocortex.prop\"].isna()\n",
        "post = idata_m15_7.posterior\n",
        "\n",
        "# Calculate the posterior mean and hdi for imputed values of B\n",
        "B_impute_mu = post[\"MB_missing\"].mean(dim=[\"chain\", \"draw\"])\n",
        "B_impute_ci = az.hdi(post, var_names=[\"MB_missing\"])[\"MB_missing\"]\n",
        "\n",
        "# B vs K\n",
        "fig, ax = plt.subplots(figsize=(7, 5))\n",
        "ax.scatter(B, K)\n",
        "ax.scatter(B_impute_mu, K[~obs_idx], edgecolor=\"k\", facecolor=\"none\")\n",
        "ax.plot(\n",
        "    [B_impute_ci.sel(hdi=\"lower\"), B_impute_ci.sel(hdi=\"higher\")],\n",
        "    [K[~obs_idx], K[~obs_idx]],\n",
        "    color=\"k\",\n",
        ")\n",
        "ax.set_xlabel(\"neocortex percent (std)\")\n",
        "ax.set_ylabel(\"kcal milk (std)\")\n",
        "\n",
        "# M vs B\n",
        "fig, ax = plt.subplots(figsize=(7, 5))\n",
        "ax.scatter(M, B)\n",
        "ax.scatter(M[~obs_idx], B_impute_mu, edgecolor=\"k\", facecolor=\"none\")\n",
        "ax.plot(\n",
        "    [M[~obs_idx], M[~obs_idx]],\n",
        "    [B_impute_ci.sel(hdi=\"lower\"), B_impute_ci.sel(hdi=\"higher\")],\n",
        "    color=\"k\",\n",
        ")\n",
        "ax.set_xlabel(\"log body mass (std)\")\n",
        "ax.set_ylabel(\"neocortex percent (std)\");"
      ],
      "execution_count": null,
      "outputs": [
        {
          "output_type": "display_data",
          "data": {
            "image/png": "[encoded data removed]",
            "text/plain": [
              "<Figure size 504x360 with 1 Axes>"
            ]
          },
          "metadata": {
            "tags": [],
            "needs_background": "light"
          }
        },
        {
          "output_type": "display_data",
          "data": {
            "image/png": "[encoded data removed]",
            "text/plain": [
              "<Figure size 504x360 with 1 Axes>"
            ]
          },
          "metadata": {
            "tags": [],
            "needs_background": "light"
          }
        }
      ]
    },
    {
      "cell_type": "code",
      "metadata": {
        "id": "pjCsrWLRY2IH",
        "colab": {
          "base_uri": "https://localhost:8080/",
          "height": 221
        },
        "outputId": "0cebe510-3759-4e95-e48e-510c31b27b94"
      },
      "source": [
        "`np.stack([B_, M_])"
      ],
      "execution_count": null,
      "outputs": [
        {
          "output_type": "execute_result",
          "data": {
            "text/plain": [
              "array([[-2.08019603,         nan,         nan,         nan,         nan,\n",
              "        -0.50864129, -0.50864129,  0.01074247,         nan,  0.21346968,\n",
              "        -1.46196181, -0.98613926, -1.21567338,         nan,         nan,\n",
              "         0.40111801,         nan,  0.47483699,         nan,  0.97579101,\n",
              "                nan, -0.00768727,         nan,  0.61724867,  0.84175649,\n",
              "                nan,  0.44635466,  1.46166614,  1.32595619],\n",
              "       [-0.45583571, -0.41500236, -0.30715809, -0.56502542, -0.38747721,\n",
              "         0.1274408 ,  0.14075054, -0.30715809, -1.05084431, -1.07626974,\n",
              "        -2.0978301 , -1.29379736, -1.52018933, -1.14998219, -0.11641991,\n",
              "        -0.59103922,  0.30355817, -0.15680955,  0.37107285,  0.6288397 ,\n",
              "         0.34452284,  0.14075054,  0.54786869,  1.25273549,  1.7273591 ,\n",
              "         1.84940334,  1.33415005,  1.21202044,  1.51036602]])"
            ]
          },
          "metadata": {
            "tags": []
          },
          "execution_count": 54
        }
      ]
    },
    {
      "cell_type": "code",
      "metadata": {
        "id": "EPc1qpH_S0mo"
      },
      "source": [
        "K_ = standardize(d['kcal.per.g'])\n",
        "B_ = standardize(d['neocortex.prop'])\n",
        "M_ = standardize(d['logmass'])\n",
        "\n",
        "_, ax = plt.subplots(1, 2, figsize=(12, 4))\n",
        "ax[0].scatter(B_[index], K_[index])\n",
        "ax[0].errorbar(B_impute_mu, K_[~index],xerr=B_impute_sd, \n",
        "               fmt='o',\n",
        "               color='k', \n",
        "               markerfacecolor='none',\n",
        "               markeredgewidth = 0.5,\n",
        "               elinewidth = 1)\n",
        "ax[0].set_xlabel(\"neocortex percent (std)\")\n",
        "ax[0].set_ylabel(\"kcal milk (std)\")\n",
        "plt.show()"
      ],
      "execution_count": null,
      "outputs": []
    },
    {
      "cell_type": "markdown",
      "metadata": {
        "id": "JuS5kRRNV-yk"
      },
      "source": [
        "# Code 15.24"
      ]
    },
    {
      "cell_type": "code",
      "metadata": {
        "id": "toF6pSX3entO",
        "colab": {
          "base_uri": "https://localhost:8080/",
          "height": 204
        },
        "outputId": "30abd431-09a0-4e0a-f18a-967a294dae63"
      },
      "source": [
        "moralizing_gods = \"https://raw.githubusercontent.com/rmcelreath/rethinking/master/data/Moralizing_gods.csv\"\n",
        "\n",
        "d = pd.read_csv(moralizing_gods, delimiter=\";\")\n",
        "d.head()"
      ],
      "execution_count": null,
      "outputs": [
        {
          "output_type": "execute_result",
          "data": {
            "text/html": [
              "<div>\n",
              "<style scoped>\n",
              "    .dataframe tbody tr th:only-of-type {\n",
              "        vertical-align: middle;\n",
              "    }\n",
              "\n",
              "    .dataframe tbody tr th {\n",
              "        vertical-align: top;\n",
              "    }\n",
              "\n",
              "    .dataframe thead th {\n",
              "        text-align: right;\n",
              "    }\n",
              "</style>\n",
              "<table border=\"1\" class=\"dataframe\">\n",
              "  <thead>\n",
              "    <tr style=\"text-align: right;\">\n",
              "      <th></th>\n",
              "      <th>polity</th>\n",
              "      <th>year</th>\n",
              "      <th>population</th>\n",
              "      <th>moralizing_gods</th>\n",
              "      <th>writing</th>\n",
              "    </tr>\n",
              "  </thead>\n",
              "  <tbody>\n",
              "    <tr>\n",
              "      <th>0</th>\n",
              "      <td>Big Island Hawaii</td>\n",
              "      <td>1000</td>\n",
              "      <td>3.729643</td>\n",
              "      <td>NaN</td>\n",
              "      <td>0</td>\n",
              "    </tr>\n",
              "    <tr>\n",
              "      <th>1</th>\n",
              "      <td>Big Island Hawaii</td>\n",
              "      <td>1100</td>\n",
              "      <td>3.729643</td>\n",
              "      <td>NaN</td>\n",
              "      <td>0</td>\n",
              "    </tr>\n",
              "    <tr>\n",
              "      <th>2</th>\n",
              "      <td>Big Island Hawaii</td>\n",
              "      <td>1200</td>\n",
              "      <td>3.598340</td>\n",
              "      <td>NaN</td>\n",
              "      <td>0</td>\n",
              "    </tr>\n",
              "    <tr>\n",
              "      <th>3</th>\n",
              "      <td>Big Island Hawaii</td>\n",
              "      <td>1300</td>\n",
              "      <td>4.026240</td>\n",
              "      <td>NaN</td>\n",
              "      <td>0</td>\n",
              "    </tr>\n",
              "    <tr>\n",
              "      <th>4</th>\n",
              "      <td>Big Island Hawaii</td>\n",
              "      <td>1400</td>\n",
              "      <td>4.311767</td>\n",
              "      <td>NaN</td>\n",
              "      <td>0</td>\n",
              "    </tr>\n",
              "  </tbody>\n",
              "</table>\n",
              "</div>"
            ],
            "text/plain": [
              "              polity  year  population  moralizing_gods  writing\n",
              "0  Big Island Hawaii  1000    3.729643              NaN        0\n",
              "1  Big Island Hawaii  1100    3.729643              NaN        0\n",
              "2  Big Island Hawaii  1200    3.598340              NaN        0\n",
              "3  Big Island Hawaii  1300    4.026240              NaN        0\n",
              "4  Big Island Hawaii  1400    4.311767              NaN        0"
            ]
          },
          "metadata": {
            "tags": []
          },
          "execution_count": 2
        }
      ]
    },
    {
      "cell_type": "markdown",
      "metadata": {
        "id": "CaVOrCxgW916"
      },
      "source": [
        "# Code 15.25"
      ]
    },
    {
      "cell_type": "code",
      "metadata": {
        "id": "t7xh-8lse1O6",
        "colab": {
          "base_uri": "https://localhost:8080/"
        },
        "outputId": "2a8c0448-c2d4-4a59-8f93-a68cee9e1226"
      },
      "source": [
        "print(d.shape)\n",
        "d.moralizing_gods.value_counts(dropna=False)"
      ],
      "execution_count": null,
      "outputs": [
        {
          "output_type": "stream",
          "text": [
            "(864, 5)\n"
          ],
          "name": "stdout"
        },
        {
          "output_type": "execute_result",
          "data": {
            "text/plain": [
              "NaN    528\n",
              "1.0    319\n",
              "0.0     17\n",
              "Name: moralizing_gods, dtype: int64"
            ]
          },
          "metadata": {
            "tags": []
          },
          "execution_count": 3
        }
      ]
    },
    {
      "cell_type": "markdown",
      "metadata": {
        "id": "t74Xz5XHXcGo"
      },
      "source": [
        "# Code 15.26"
      ]
    },
    {
      "cell_type": "code",
      "metadata": {
        "id": "y5s2DzyjwQWe",
        "colab": {
          "base_uri": "https://localhost:8080/",
          "height": 351
        },
        "outputId": "4e283b0b-d569-4124-d0b5-055edc26349f"
      },
      "source": [
        "_, ax = plt.subplots(figsize=(8, 5))\n",
        "d[d.moralizing_gods == 1].plot.scatter('year','population', ax=ax)\n",
        "d[d.moralizing_gods == 0].plot.scatter('year','population', color='none', edgecolors='k',ax=ax)\n",
        "d[d.moralizing_gods.isna()].plot.scatter('year','population', c = 'k', marker = 'x',ax=ax)"
      ],
      "execution_count": null,
      "outputs": [
        {
          "output_type": "execute_result",
          "data": {
            "text/plain": [
              "<matplotlib.axes._subplots.AxesSubplot at 0x7f13389ac908>"
            ]
          },
          "metadata": {
            "tags": []
          },
          "execution_count": 4
        },
        {
          "output_type": "display_data",
          "data": {
            "image/png": "[encoded data removed]",
            "text/plain": [
              "<Figure size 576x360 with 1 Axes>"
            ]
          },
          "metadata": {
            "tags": [],
            "needs_background": "light"
          }
        }
      ]
    },
    {
      "cell_type": "markdown",
      "metadata": {
        "id": "z2hTeO8xXvd1"
      },
      "source": [
        "# Code 15.27"
      ]
    },
    {
      "cell_type": "code",
      "metadata": {
        "colab": {
          "base_uri": "https://localhost:8080/",
          "height": 173
        },
        "id": "K03ayyzAXy-I",
        "outputId": "c42e6ef2-9818-41e2-b773-daac16eaabe0"
      },
      "source": [
        "pd.pivot_table(data=d[['moralizing_gods']],\n",
        "               index=d.moralizing_gods,columns=d.writing, \n",
        "               aggfunc=np.count_nonzero,\n",
        "               dropna=False,)"
      ],
      "execution_count": null,
      "outputs": [
        {
          "output_type": "execute_result",
          "data": {
            "text/html": [
              "<div>\n",
              "<style scoped>\n",
              "    .dataframe tbody tr th:only-of-type {\n",
              "        vertical-align: middle;\n",
              "    }\n",
              "\n",
              "    .dataframe tbody tr th {\n",
              "        vertical-align: top;\n",
              "    }\n",
              "\n",
              "    .dataframe thead tr th {\n",
              "        text-align: left;\n",
              "    }\n",
              "\n",
              "    .dataframe thead tr:last-of-type th {\n",
              "        text-align: right;\n",
              "    }\n",
              "</style>\n",
              "<table border=\"1\" class=\"dataframe\">\n",
              "  <thead>\n",
              "    <tr>\n",
              "      <th></th>\n",
              "      <th colspan=\"2\" halign=\"left\">moralizing_gods</th>\n",
              "    </tr>\n",
              "    <tr>\n",
              "      <th>writing</th>\n",
              "      <th>0</th>\n",
              "      <th>1</th>\n",
              "    </tr>\n",
              "    <tr>\n",
              "      <th>moralizing_gods</th>\n",
              "      <th></th>\n",
              "      <th></th>\n",
              "    </tr>\n",
              "  </thead>\n",
              "  <tbody>\n",
              "    <tr>\n",
              "      <th>0.0</th>\n",
              "      <td>0.0</td>\n",
              "      <td>0.0</td>\n",
              "    </tr>\n",
              "    <tr>\n",
              "      <th>1.0</th>\n",
              "      <td>9.0</td>\n",
              "      <td>310.0</td>\n",
              "    </tr>\n",
              "  </tbody>\n",
              "</table>\n",
              "</div>"
            ],
            "text/plain": [
              "                moralizing_gods       \n",
              "writing                       0      1\n",
              "moralizing_gods                       \n",
              "0.0                         0.0    0.0\n",
              "1.0                         9.0  310.0"
            ]
          },
          "metadata": {
            "tags": []
          },
          "execution_count": 11
        }
      ]
    },
    {
      "cell_type": "markdown",
      "metadata": {
        "id": "bS6hsguKzpJP"
      },
      "source": [
        "# Code 15.29"
      ]
    },
    {
      "cell_type": "code",
      "metadata": {
        "id": "88JtzwRqxP69"
      },
      "source": [
        "N_houses = 100  # Number of houses to simulate\n",
        "alpha = 5  # Average number of notes when cat is absent\n",
        "beta = -3  # Difference in number of notes when cat is present\n",
        "k_true = 0.5  # Probability of cat present\n",
        "r = 0.2  # Probability of not knowing whether cat present/absent\n",
        "\n",
        "cat_true = np.random.binomial(n=1, p=k_true, size=N_houses)\n",
        "notes = np.random.poisson(lam=alpha + beta * cat_true, size=N_houses)\n",
        "R_C = np.random.binomial(n=1, p=r, size=N_houses)\n",
        "cat = cat_true.copy()\n",
        "cat[R_C == 1] = -9"
      ],
      "execution_count": null,
      "outputs": []
    },
    {
      "cell_type": "markdown",
      "metadata": {
        "id": "Dm3TDJcc2_IO"
      },
      "source": [
        "# Code 15.30"
      ]
    },
    {
      "cell_type": "code",
      "metadata": {
        "id": "yjQfwkS-K21X",
        "colab": {
          "base_uri": "https://localhost:8080/",
          "height": 267
        },
        "outputId": "f99a93d3-a5ed-4042-d244-904b5d245eb5"
      },
      "source": [
        "with pm.Model() as m15_8:\n",
        "  #priors\n",
        "  a = pm.Normal(\"a\", 0, 1)\n",
        "  b = pm.Normal(\"b\", 0, 0.5)\n",
        "  k = pm.Beta(\"k\", 2, 2)\n",
        "  # cat NA\n",
        "  custom_logp = pm.math.logsumexp(\n",
        "      [pm.math.log(k)\n",
        "      + pm.Poisson.dist(pm.math.exp(a + b)).logp(notes[cat == -9])\n",
        "      , pm.math.log(1 - k)\n",
        "      + pm.Poisson.dist(pm.math.exp(a)).logp(notes[cat == -9])]\n",
        "  )\n",
        "  # Using pm.Potential to add custom term to model logp\n",
        "  notes_RC_1 = pm.Potential(\"notes|RC==1\", custom_logp)\n",
        "\n",
        "  # cat known present/absent\n",
        "  cat_RC_0 = pm.Bernoulli(\"cat|RC==0\", k, observed=cat[cat != -9])\n",
        "\n",
        "  lam = pm.math.exp(a + b * cat[cat!=-9]) \n",
        "  notes_RC_0 = pm.Poisson(\"notes|RC==0\", lam, observed=notes[cat != -9])\n",
        "\n",
        "  idata_m15_8 = pm.sample(return_inferencedata=True)\n",
        "\n",
        "az.summary(idata_m15_8,  round_to=2)"
      ],
      "execution_count": null,
      "outputs": [
        {
          "output_type": "stream",
          "text": [
            "Auto-assigning NUTS sampler...\n",
            "Initializing NUTS using jitter+adapt_diag...\n",
            "Sequential sampling (2 chains in 1 job)\n",
            "NUTS: [k, b, a]\n"
          ],
          "name": "stderr"
        },
        {
          "output_type": "display_data",
          "data": {
            "text/html": [
              "\n",
              "    <div>\n",
              "        <style>\n",
              "            /* Turns off some styling */\n",
              "            progress {\n",
              "                /* gets rid of default border in Firefox and Opera. */\n",
              "                border: none;\n",
              "                /* Needs to be in here for Safari polyfill so background images work as expected. */\n",
              "                background-size: auto;\n",
              "            }\n",
              "            .progress-bar-interrupted, .progress-bar-interrupted::-webkit-progress-bar {\n",
              "                background: #F44336;\n",
              "            }\n",
              "        </style>\n",
              "      <progress value='2000' class='' max='2000' style='width:300px; height:20px; vertical-align: middle;'></progress>\n",
              "      100.00% [2000/2000 00:03<00:00 Sampling chain 0, 0 divergences]\n",
              "    </div>\n",
              "    "
            ],
            "text/plain": [
              "<IPython.core.display.HTML object>"
            ]
          },
          "metadata": {
            "tags": []
          }
        },
        {
          "output_type": "display_data",
          "data": {
            "text/html": [
              "\n",
              "    <div>\n",
              "        <style>\n",
              "            /* Turns off some styling */\n",
              "            progress {\n",
              "                /* gets rid of default border in Firefox and Opera. */\n",
              "                border: none;\n",
              "                /* Needs to be in here for Safari polyfill so background images work as expected. */\n",
              "                background-size: auto;\n",
              "            }\n",
              "            .progress-bar-interrupted, .progress-bar-interrupted::-webkit-progress-bar {\n",
              "                background: #F44336;\n",
              "            }\n",
              "        </style>\n",
              "      <progress value='2000' class='' max='2000' style='width:300px; height:20px; vertical-align: middle;'></progress>\n",
              "      100.00% [2000/2000 00:03<00:00 Sampling chain 1, 0 divergences]\n",
              "    </div>\n",
              "    "
            ],
            "text/plain": [
              "<IPython.core.display.HTML object>"
            ]
          },
          "metadata": {
            "tags": []
          }
        },
        {
          "output_type": "stream",
          "text": [
            "Sampling 2 chains for 1_000 tune and 1_000 draw iterations (2_000 + 2_000 draws total) took 6 seconds.\n"
          ],
          "name": "stderr"
        },
        {
          "output_type": "execute_result",
          "data": {
            "text/html": [
              "<div>\n",
              "<style scoped>\n",
              "    .dataframe tbody tr th:only-of-type {\n",
              "        vertical-align: middle;\n",
              "    }\n",
              "\n",
              "    .dataframe tbody tr th {\n",
              "        vertical-align: top;\n",
              "    }\n",
              "\n",
              "    .dataframe thead th {\n",
              "        text-align: right;\n",
              "    }\n",
              "</style>\n",
              "<table border=\"1\" class=\"dataframe\">\n",
              "  <thead>\n",
              "    <tr style=\"text-align: right;\">\n",
              "      <th></th>\n",
              "      <th>mean</th>\n",
              "      <th>sd</th>\n",
              "      <th>hdi_3%</th>\n",
              "      <th>hdi_97%</th>\n",
              "      <th>mcse_mean</th>\n",
              "      <th>mcse_sd</th>\n",
              "      <th>ess_bulk</th>\n",
              "      <th>ess_tail</th>\n",
              "      <th>r_hat</th>\n",
              "    </tr>\n",
              "  </thead>\n",
              "  <tbody>\n",
              "    <tr>\n",
              "      <th>a</th>\n",
              "      <td>1.44</td>\n",
              "      <td>0.08</td>\n",
              "      <td>1.30</td>\n",
              "      <td>1.60</td>\n",
              "      <td>0.0</td>\n",
              "      <td>0.0</td>\n",
              "      <td>1404.89</td>\n",
              "      <td>1523.59</td>\n",
              "      <td>1.0</td>\n",
              "    </tr>\n",
              "    <tr>\n",
              "      <th>b</th>\n",
              "      <td>-0.77</td>\n",
              "      <td>0.13</td>\n",
              "      <td>-1.02</td>\n",
              "      <td>-0.53</td>\n",
              "      <td>0.0</td>\n",
              "      <td>0.0</td>\n",
              "      <td>1223.82</td>\n",
              "      <td>1475.15</td>\n",
              "      <td>1.0</td>\n",
              "    </tr>\n",
              "    <tr>\n",
              "      <th>k</th>\n",
              "      <td>0.52</td>\n",
              "      <td>0.05</td>\n",
              "      <td>0.42</td>\n",
              "      <td>0.62</td>\n",
              "      <td>0.0</td>\n",
              "      <td>0.0</td>\n",
              "      <td>1821.27</td>\n",
              "      <td>1333.53</td>\n",
              "      <td>1.0</td>\n",
              "    </tr>\n",
              "  </tbody>\n",
              "</table>\n",
              "</div>"
            ],
            "text/plain": [
              "   mean    sd  hdi_3%  hdi_97%  mcse_mean  mcse_sd  ess_bulk  ess_tail  r_hat\n",
              "a  1.44  0.08    1.30     1.60        0.0      0.0   1404.89   1523.59    1.0\n",
              "b -0.77  0.13   -1.02    -0.53        0.0      0.0   1223.82   1475.15    1.0\n",
              "k  0.52  0.05    0.42     0.62        0.0      0.0   1821.27   1333.53    1.0"
            ]
          },
          "metadata": {
            "tags": []
          },
          "execution_count": 18
        }
      ]
    },
    {
      "cell_type": "code",
      "metadata": {
        "id": "becKONtL5NNO"
      },
      "source": [
        ""
      ],
      "execution_count": null,
      "outputs": []
    }
  ]
}